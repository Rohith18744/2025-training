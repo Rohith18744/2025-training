{
  "nbformat": 4,
  "nbformat_minor": 0,
  "metadata": {
    "colab": {
      "provenance": [],
      "authorship_tag": "ABX9TyOLppgTX1mMADn9MOEPM8vx",
      "include_colab_link": true
    },
    "kernelspec": {
      "name": "python3",
      "display_name": "Python 3"
    },
    "language_info": {
      "name": "python"
    }
  },
  "cells": [
    {
      "cell_type": "markdown",
      "metadata": {
        "id": "view-in-github",
        "colab_type": "text"
      },
      "source": [
        "<a href=\"https://colab.research.google.com/github/Rohith18744/2025-training/blob/main/Day_14.ipynb\" target=\"_parent\"><img src=\"https://colab.research.google.com/assets/colab-badge.svg\" alt=\"Open In Colab\"/></a>"
      ]
    },
    {
      "cell_type": "code",
      "execution_count": null,
      "metadata": {
        "id": "Wv86Umj9an_Q",
        "colab": {
          "base_uri": "https://localhost:8080/"
        },
        "outputId": "12aef017-86ba-4786-d57f-4a6c83a52ebb"
      },
      "outputs": [
        {
          "output_type": "stream",
          "name": "stdout",
          "text": [
            "6\n",
            "28\n",
            "480\n"
          ]
        }
      ],
      "source": [
        "#leetcode 1863\n",
        "def subsetXORSum(nums):\n",
        "    n = len(nums)\n",
        "    total_sum = 0\n",
        "    for i in range(1 << n):\n",
        "        xor_total = 0\n",
        "        for j in range(n):\n",
        "            if i & (1 << j):\n",
        "                xor_total ^= nums[j]\n",
        "        total_sum += xor_total\n",
        "    return total_sum\n",
        "print(subsetXORSum([1, 3]))\n",
        "print(subsetXORSum([5, 1, 6]))\n",
        "print(subsetXORSum([3, 4, 5, 6, 7, 8]))\n"
      ]
    },
    {
      "cell_type": "code",
      "source": [
        "#leetcode 409\n",
        "from collections import Counter\n",
        "\n",
        "class Solution:\n",
        "    def longestPalindrome(self, s: str) -> int:\n",
        "        char_count = Counter(s)\n",
        "        length = 0\n",
        "        odd_found = False\n",
        "        for count in char_count.values():\n",
        "            if count % 2 == 0:\n",
        "                length += count\n",
        "            else:\n",
        "                length += count - 1\n",
        "                odd_found = True\n",
        "        if odd_found:\n",
        "            length += 1\n",
        "\n",
        "        return length\n",
        "solution = Solution()\n",
        "print(solution.longestPalindrome(\"abccccdd\"))"
      ],
      "metadata": {
        "colab": {
          "base_uri": "https://localhost:8080/"
        },
        "id": "xbpC0E_7jcf4",
        "outputId": "9d5749cc-3dac-4c4c-95c9-fdd44f76da36"
      },
      "execution_count": null,
      "outputs": [
        {
          "output_type": "stream",
          "name": "stdout",
          "text": [
            "7\n"
          ]
        }
      ]
    },
    {
      "cell_type": "code",
      "source": [
        "#leetcode 1720\n",
        "\n",
        "class Solution:\n",
        "    def decode(self, encoded, first):\n",
        "        n = len(encoded) + 1\n",
        "        arr = [0] * n\n",
        "        arr[0] = first\n",
        "\n",
        "        for i in range(1, n):\n",
        "            arr[i] = encoded[i - 1] ^ arr[i - 1]\n",
        "\n",
        "        return arr\n",
        "\n",
        "# Example usage:\n",
        "solution = Solution()\n",
        "print(solution.decode([1, 2, 3], 1))  # Output: [1, 0, 2, 1]\n",
        "print(solution.decode([6, 2, 7, 3], 4))  # Output: [4, 2, 0, 7, 4]\n"
      ],
      "metadata": {
        "colab": {
          "base_uri": "https://localhost:8080/"
        },
        "id": "OqGDprNTwG37",
        "outputId": "a1ccc433-95c2-4e8a-d958-000f3f1c061f"
      },
      "execution_count": null,
      "outputs": [
        {
          "output_type": "stream",
          "name": "stdout",
          "text": [
            "[1, 0, 2, 1]\n",
            "[4, 2, 0, 7, 4]\n"
          ]
        }
      ]
    },
    {
      "cell_type": "code",
      "source": [
        "#leetcode 860\n",
        "def lemonadeChange(bills):\n",
        "    five_bills = 0\n",
        "    ten_bills = 0\n",
        "\n",
        "    for bill in bills:\n",
        "        if bill == 5:\n",
        "            five_bills += 1\n",
        "        elif bill == 10:\n",
        "            if five_bills == 0:\n",
        "                return False\n",
        "            five_bills -= 1\n",
        "            ten_bills += 1\n",
        "        else:  # bill == 20\n",
        "            if ten_bills > 0 and five_bills > 0:\n",
        "                ten_bills -= 1\n",
        "                five_bills -= 1\n",
        "            elif five_bills >= 3:\n",
        "                five_bills -= 3\n",
        "            else:\n",
        "                return False\n",
        "\n",
        "    return True\n",
        "\n",
        "# Example usage:\n",
        "print(lemonadeChange([5,5,5,10,20]))  # Output: true\n",
        "print(lemonadeChange([5,5,10,10,20]))  # Output: false\n"
      ],
      "metadata": {
        "colab": {
          "base_uri": "https://localhost:8080/"
        },
        "id": "7520NXTR_agW",
        "outputId": "f1d0d322-6b56-4fc5-939e-0bcc0165d70c"
      },
      "execution_count": null,
      "outputs": [
        {
          "output_type": "stream",
          "name": "stdout",
          "text": [
            "True\n",
            "False\n"
          ]
        }
      ]
    },
    {
      "cell_type": "code",
      "source": [
        "#swap of 2 numbers\n",
        "a=input()\n",
        "b=input()\n",
        "a,b=b,a\n",
        "print(a,b)"
      ],
      "metadata": {
        "id": "1kW5Bfb0Be5F"
      },
      "execution_count": null,
      "outputs": []
    },
    {
      "cell_type": "code",
      "source": [
        "#leetcode 942\n",
        "class Solution:\n",
        "    def diStringMatch(self, s: str) -> List[int]:\n",
        "        resList=[]\n",
        "        high,low=len(s),0\n",
        "        k=1\n",
        "        for ch in s:\n",
        "            if ch=='i' or ch=='I':\n",
        "                resList.insert(k,low)\n",
        "                k+=1\n",
        "                low+=1\n",
        "            elif ch=='d' or ch=='D':\n",
        "                resList.insert(k,high)\n",
        "                k+=1\n",
        "                high-=1\n",
        "        resList.append(high)\n",
        "        return resList"
      ],
      "metadata": {
        "id": "hPkEiCHRjUU1"
      },
      "execution_count": null,
      "outputs": []
    },
    {
      "cell_type": "code",
      "source": [
        "#leetcode 1013\n",
        "def canPartitionIntoThreeParts(arr):\n",
        "    # Step 1: Calculate the total sum of the array\n",
        "    totalSum = sum(arr)\n",
        "\n",
        "    # Step 2: Check if the total sum is divisible by 3\n",
        "    if totalSum % 3 != 0:\n",
        "        return False\n",
        "\n",
        "    # Step 3: Calculate the target sum for each part\n",
        "    targetSum = totalSum // 3\n",
        "    currentSum = 0\n",
        "    partsFound = 0\n",
        "\n",
        "    # Step 4: Iterate through the array to find parts\n",
        "    for num in arr:\n",
        "        currentSum += num\n",
        "\n",
        "        # When the current sum equals the target sum, reset current sum and count the part\n",
        "        if currentSum == targetSum:\n",
        "            currentSum = 0\n",
        "            partsFound += 1\n",
        "\n",
        "            # If we have found 3 parts, we can return true early\n",
        "            if partsFound == 3:\n",
        "                return True\n",
        "\n",
        "    # If we haven't found 3 parts, return false\n",
        "    return False\n",
        "\n",
        "# Example usage\n",
        "arr1 = [0, 2, 1, -6, 6, -7, 9, 1, 2, 0, 1]\n",
        "arr2 = [0, 2, 1, -6, 6, 7, 9, -1, 2, 0, 1]\n",
        "arr3 = [3, 3, 6, 5, -2, 2, 5, 1, -9, 4]\n",
        "\n",
        "print(canPartitionIntoThreeParts(arr1))  # Output: True\n",
        "print(canPartitionIntoThreeParts(arr2))  # Output: False\n",
        "print(canPartitionIntoThreeParts(arr3))  # Output: True\n"
      ],
      "metadata": {
        "colab": {
          "base_uri": "https://localhost:8080/"
        },
        "id": "wpWu2B48jcxM",
        "outputId": "753ed10d-08e1-47c0-8972-be0f384c62a7"
      },
      "execution_count": null,
      "outputs": [
        {
          "output_type": "stream",
          "name": "stdout",
          "text": [
            "True\n",
            "False\n",
            "True\n"
          ]
        }
      ]
    }
  ]
}