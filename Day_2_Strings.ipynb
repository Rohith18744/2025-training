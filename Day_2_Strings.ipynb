{
  "nbformat": 4,
  "nbformat_minor": 0,
  "metadata": {
    "colab": {
      "provenance": [],
      "authorship_tag": "ABX9TyOy8cgTfcSY4OY9bKcZnDjl",
      "include_colab_link": true
    },
    "kernelspec": {
      "name": "python3",
      "display_name": "Python 3"
    },
    "language_info": {
      "name": "python"
    }
  },
  "cells": [
    {
      "cell_type": "markdown",
      "metadata": {
        "id": "view-in-github",
        "colab_type": "text"
      },
      "source": [
        "<a href=\"https://colab.research.google.com/github/Rohith18744/2025-training/blob/main/Day_2_Strings.ipynb\" target=\"_parent\"><img src=\"https://colab.research.google.com/assets/colab-badge.svg\" alt=\"Open In Colab\"/></a>"
      ]
    },
    {
      "cell_type": "code",
      "execution_count": null,
      "metadata": {
        "colab": {
          "base_uri": "https://localhost:8080/"
        },
        "id": "XyW3CsdCgLee",
        "outputId": "7e26fa0e-74a5-4f82-8121-941882b9cb21"
      },
      "outputs": [
        {
          "output_type": "stream",
          "name": "stdout",
          "text": [
            "216\n",
            "true\n"
          ]
        }
      ],
      "source": [
        "n=int(input())\n",
        "while n != 1:\n",
        "    if n%6==0:\n",
        "        n//=6\n",
        "    else:\n",
        "        print(\"false\")\n",
        "        break\n",
        "else:\n",
        "    print(\"true\")\n",
        "\n"
      ]
    },
    {
      "cell_type": "code",
      "source": [
        "#Recursion\n",
        "def descending(num):\n",
        "    if num == 0:\n",
        "        return\n",
        "    print(num, end=\" \")\n",
        "    descending(num - 1)\n",
        "user = int(input(\"Enter a number: \"))\n",
        "descending(user)"
      ],
      "metadata": {
        "colab": {
          "base_uri": "https://localhost:8080/"
        },
        "id": "69GEdFj_jJrf",
        "outputId": "8ef1c38e-b496-4c84-f024-16d4e2139934"
      },
      "execution_count": null,
      "outputs": [
        {
          "output_type": "stream",
          "name": "stdout",
          "text": [
            "Enter a number: 5\n",
            "5 4 3 2 1 "
          ]
        }
      ]
    },
    {
      "cell_type": "code",
      "source": [
        "def display(num):\n",
        "    if num <= 0:\n",
        "        return\n",
        "    display(num-1)\n",
        "    print(num, end=\" \")\n",
        "user = int(input(\"Enter a number: \"))\n",
        "display(user)"
      ],
      "metadata": {
        "colab": {
          "base_uri": "https://localhost:8080/"
        },
        "id": "HS--s2T3jnmq",
        "outputId": "a8f049a6-e170-47dd-85e5-28ff77ef4f39"
      },
      "execution_count": null,
      "outputs": [
        {
          "output_type": "stream",
          "name": "stdout",
          "text": [
            "Enter a number: 7\n",
            "1 2 3 4 5 6 7 "
          ]
        }
      ]
    },
    {
      "cell_type": "code",
      "source": [
        "#Printing string in reverse order using recursion\n",
        "def revStr(data):\n",
        "  if data==\"\":\n",
        "    return data\n",
        "  return data[-1]+revStr(data[:-1])\n",
        "strData=\"String\"\n",
        "print(revStr(strData))\n"
      ],
      "metadata": {
        "colab": {
          "base_uri": "https://localhost:8080/"
        },
        "id": "8KBOpyAzltgX",
        "outputId": "305429c8-4f64-4479-a367-bb7f1a18ca58"
      },
      "execution_count": null,
      "outputs": [
        {
          "output_type": "stream",
          "name": "stdout",
          "text": [
            "gnirtS\n"
          ]
        }
      ]
    },
    {
      "cell_type": "code",
      "source": [
        "#if data is number or not\n",
        "import string\n",
        "strNum=input()\n",
        "for i in strNum:\n",
        "  if i not in string.digits:\n",
        "    print(\"False\")\n",
        "    break\n",
        "else:\n",
        "  print(\"True\")\n"
      ],
      "metadata": {
        "id": "-Ru4tXgIz40N",
        "colab": {
          "base_uri": "https://localhost:8080/"
        },
        "outputId": "f0b6e95d-f20b-416d-8629-5de4f6e43ed0"
      },
      "execution_count": null,
      "outputs": [
        {
          "output_type": "stream",
          "name": "stdout",
          "text": [
            "456\n",
            "True\n"
          ]
        }
      ]
    },
    {
      "cell_type": "code",
      "source": [
        "#generate a number from the given string\n",
        "#digit found 0\n",
        "def generate_number(s):\n",
        "    result = \"\"\n",
        "    for char in s:\n",
        "        if char.isdigit():\n",
        "            result += char\n",
        "    if result == \"\":\n",
        "        return 0\n",
        "    return int(result)\n",
        "\n",
        "\n",
        "string = \"123av45b78\"\n",
        "print(generate_number(string))\n",
        "\n"
      ],
      "metadata": {
        "colab": {
          "base_uri": "https://localhost:8080/"
        },
        "id": "3a9kN_hV8c2U",
        "outputId": "da6192b0-5e05-4d6a-cdb2-953b1a2e3537"
      },
      "execution_count": null,
      "outputs": [
        {
          "output_type": "stream",
          "name": "stdout",
          "text": [
            "1234578\n"
          ]
        }
      ]
    },
    {
      "cell_type": "code",
      "source": [
        "#2\n",
        "import string\n",
        "data=\"123av45b78\"\n",
        "num=\"\"\n",
        "for i in data:\n",
        "  if i in string.digits:\n",
        "    num+=i\n",
        "if num==\"\":\n",
        "  print('0')\n",
        "else:\n",
        "  print(int(num))"
      ],
      "metadata": {
        "colab": {
          "base_uri": "https://localhost:8080/"
        },
        "id": "sprayy1i9zkr",
        "outputId": "bc420b2b-3689-420c-8057-3dbf37209332"
      },
      "execution_count": null,
      "outputs": [
        {
          "output_type": "stream",
          "name": "stdout",
          "text": [
            "1234578\n"
          ]
        }
      ]
    },
    {
      "cell_type": "code",
      "source": [
        "n=input()\n",
        "a,b=5,8\n",
        "print(\"This is a\",n,\"demo output\")\n",
        "print(\"This is {2} a {0} demo {1}\".format(n,a,b))\n"
      ],
      "metadata": {
        "id": "futLWP0PAVpd",
        "colab": {
          "base_uri": "https://localhost:8080/"
        },
        "outputId": "662e41fe-21d7-4595-898d-74981e1b7dd0"
      },
      "execution_count": null,
      "outputs": [
        {
          "output_type": "stream",
          "name": "stdout",
          "text": [
            "45\n",
            "This is a 45 demo output\n",
            "This is 8 a 45 demo 5\n"
          ]
        }
      ]
    },
    {
      "cell_type": "code",
      "source": [
        "#Remove consecutive duplicated\n",
        "n=input(\"enter string:\")\n",
        "result = \"\"\n",
        "pre = None\n",
        "for char in n:\n",
        "  if char != pre:\n",
        "    result += char\n",
        "  pre = char\n",
        "print(result)"
      ],
      "metadata": {
        "colab": {
          "base_uri": "https://localhost:8080/"
        },
        "id": "Xd-joA-VStcP",
        "outputId": "0cce0aaa-2b15-44ff-b7f8-5aba384169f9"
      },
      "execution_count": null,
      "outputs": [
        {
          "output_type": "stream",
          "name": "stdout",
          "text": [
            "enter string:heello\n",
            "helo\n"
          ]
        }
      ]
    },
    {
      "cell_type": "code",
      "source": [
        "#Rotating string checking whether it is anagram or not\n",
        "data=input()\n",
        "rot=int(input())\n",
        "res=''\n",
        "for i in range(rot):\n",
        "  di,mag=input().split()\n",
        "  if di.upper=='L':\n",
        "    (data[mag:]+data[:int(mag)])\n",
        "  elif di.upper()==\"R\":\n",
        "    res+=(data[:int(mag)]+data[int(mag)])\n",
        "subList=[data[i:i+rot] for i in range(len(data))]\n",
        "print(res,subList)\n",
        "for subele in subList:\n",
        "  if sorted(subele)==sorted(res):\n",
        "    print(\"Yes\")\n",
        "    break\n",
        "else:\n",
        "  print(\"No\")\n"
      ],
      "metadata": {
        "colab": {
          "base_uri": "https://localhost:8080/"
        },
        "id": "-cWuBffofHTj",
        "outputId": "a6de4120-c592-494e-cb5e-f7f4374f94d2"
      },
      "execution_count": null,
      "outputs": [
        {
          "output_type": "stream",
          "name": "stdout",
          "text": [
            "dheeraj\n",
            "1\n",
            "L 2\n",
            " ['d', 'h', 'e', 'e', 'r', 'a', 'j']\n",
            "No\n"
          ]
        }
      ]
    },
    {
      "cell_type": "code",
      "source": [
        "stringList=['w','e','l','c','o','m','e']\n",
        "res=\"\".join(stringList)\n",
        "print(res)"
      ],
      "metadata": {
        "colab": {
          "base_uri": "https://localhost:8080/"
        },
        "id": "jm9OPscpzpil",
        "outputId": "26a95869-dc20-41c9-c2c9-15af3214bf8f"
      },
      "execution_count": null,
      "outputs": [
        {
          "output_type": "stream",
          "name": "stdout",
          "text": [
            "welcome\n"
          ]
        }
      ]
    },
    {
      "cell_type": "code",
      "source": [
        "from collections import deque\n",
        "\n",
        "\n",
        "data = input().strip()\n",
        "qstr = deque(input().strip())\n",
        "rot = int(input().strip())\n",
        "res = ''\n",
        "\n",
        "\n",
        "for i in range(rot):\n",
        "    di, mag = input().split()\n",
        "    mag = int(mag)\n",
        "    if di.lower() == 'l':\n",
        "        qstr.rotate(-mag)\n",
        "    elif di.lower() == 'r':\n",
        "        qstr.rotate(mag)\n",
        "    res += qstr[0]\n",
        "\n",
        "\n",
        "subList = [data[i:i+rot] for i in range(len(data)-rot+1)]\n",
        "\n",
        "\n",
        "for suble in subList:\n",
        "    if sorted(suble) == sorted(res):\n",
        "        print(\"yes\")\n",
        "        break\n",
        "else:\n",
        "    print(\"no\")"
      ],
      "metadata": {
        "id": "m3ooNm823BxA"
      },
      "execution_count": null,
      "outputs": []
    }
  ]
}