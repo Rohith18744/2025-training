{
  "nbformat": 4,
  "nbformat_minor": 0,
  "metadata": {
    "colab": {
      "provenance": [],
      "authorship_tag": "ABX9TyOp2MHXLR88yas+OqHcz/5C",
      "include_colab_link": true
    },
    "kernelspec": {
      "name": "python3",
      "display_name": "Python 3"
    },
    "language_info": {
      "name": "python"
    }
  },
  "cells": [
    {
      "cell_type": "markdown",
      "metadata": {
        "id": "view-in-github",
        "colab_type": "text"
      },
      "source": [
        "<a href=\"https://colab.research.google.com/github/Rohith18744/2025-training/blob/main/DAY_3_OOPS.ipynb\" target=\"_parent\"><img src=\"https://colab.research.google.com/assets/colab-badge.svg\" alt=\"Open In Colab\"/></a>"
      ]
    },
    {
      "cell_type": "code",
      "execution_count": null,
      "metadata": {
        "colab": {
          "base_uri": "https://localhost:8080/"
        },
        "id": "XucPCJnkZwb_",
        "outputId": "ca9bc878-8606-4dd1-af00-9a8b1497daaa"
      },
      "outputs": [
        {
          "output_type": "stream",
          "name": "stdout",
          "text": [
            "Name: Rohit Phone: 9336788889\n"
          ]
        }
      ],
      "source": [
        "class Student:\n",
        "  roll=2128\n",
        "  name='Rohit'\n",
        "  phone=9336788889\n",
        "  address='warangal'\n",
        "\n",
        "  def displayInfo(self):\n",
        "    print(\"Name:\",self.name,\"Phone:\",self.phone)\n",
        "\n",
        "st1=Student()\n",
        "st1.displayInfo()"
      ]
    },
    {
      "cell_type": "code",
      "source": [
        "class Student:\n",
        "    def __init__(self, roll, name, phone, address):\n",
        "        self.roll = roll\n",
        "        self.name = name\n",
        "        self.phone = phone\n",
        "        self.address = address\n",
        "\n",
        "    def displayInfo(self):\n",
        "        print(\"Name:\", self.name, \"Phone:\", self.phone)\n",
        "\n",
        "# Creating instances with all required arguments\n",
        "st1 = Student(1, 'Rohit', 93367999988, 'Address1')\n",
        "st2 = Student(2, 'Dheeraj', 4749488448, 'Address2')\n",
        "\n",
        "# Displaying information\n",
        "st1.displayInfo()\n",
        "st2.displayInfo()\n"
      ],
      "metadata": {
        "colab": {
          "base_uri": "https://localhost:8080/"
        },
        "id": "NqFPqkn9l3qy",
        "outputId": "3be51556-a969-41bb-80a0-34dcd02f1346"
      },
      "execution_count": null,
      "outputs": [
        {
          "output_type": "stream",
          "name": "stdout",
          "text": [
            "Name: Rohit Phone: 93367999988\n",
            "Name: Dheeraj Phone: 4749488448\n"
          ]
        }
      ]
    },
    {
      "cell_type": "code",
      "source": [
        "class test:\n",
        "  def __init__(self,a=\"Hello World\"):\n",
        "    self.a=a\n",
        "  def display(self):\n",
        "    print(self.a)\n",
        "obj=test()\n",
        "obj.display()"
      ],
      "metadata": {
        "colab": {
          "base_uri": "https://localhost:8080/"
        },
        "id": "0TAmFsLhn-oC",
        "outputId": "bae9e63d-0321-4695-dccb-4bb6c4027edb"
      },
      "execution_count": null,
      "outputs": [
        {
          "output_type": "stream",
          "name": "stdout",
          "text": [
            "Hello World\n"
          ]
        }
      ]
    },
    {
      "cell_type": "code",
      "source": [
        "#Write a python program to get a list,sorted in increasing order by last element in each tuple from a given list of non-empty tuples\n",
        "#sample_List=[(2,5),(1,2),(4,4),(2,3),(2,1)]\n",
        "#Expected output=[(2,1),(1,2),(2,3),(4,4),(2,5)]\n",
        "\n",
        "def end(data):\n",
        "  return data[-1]\n",
        "n=int(input())\n",
        "data=[tuple(map(int,input().split()))for i in range(n)]\n",
        "res=sorted(data,key=end)\n",
        "print(res)"
      ],
      "metadata": {
        "colab": {
          "base_uri": "https://localhost:8080/"
        },
        "id": "iiGn2_oJp1rz",
        "outputId": "79781837-7a6b-4110-ffb6-c1a9879c9dbf"
      },
      "execution_count": null,
      "outputs": [
        {
          "output_type": "stream",
          "name": "stdout",
          "text": [
            "5\n",
            "2 5\n",
            "1 2\n",
            "4 4\n",
            "2 3\n",
            "2 1\n",
            "[(2, 1), (1, 2), (2, 3), (4, 4), (2, 5)]\n"
          ]
        }
      ]
    },
    {
      "cell_type": "code",
      "source": [
        "#from a list and sort the elements in the list based on length of the elements\n",
        "dataList=input().split()\n",
        "print(sorted(dataList,key=len))\n"
      ],
      "metadata": {
        "colab": {
          "base_uri": "https://localhost:8080/"
        },
        "id": "Lt-FCgkTxO8h",
        "outputId": "c6dafd8d-21df-449d-9bc4-9dd47797a4a2"
      },
      "execution_count": null,
      "outputs": [
        {
          "output_type": "stream",
          "name": "stdout",
          "text": [
            "hi 1 567 456\n",
            "['1', 'hi', '567', '456']\n"
          ]
        }
      ]
    },
    {
      "cell_type": "code",
      "source": [
        "#Inheritance\n",
        "\n",
        "class Test:\n",
        "    def __init__(self):\n",
        "        self.x = 0\n",
        "\n",
        "class Derived_Test(Test):\n",
        "    def __init__(self):\n",
        "        super().__init__()\n",
        "        self.y = 1\n",
        "\n",
        "def main():\n",
        "    b = Derived_Test()\n",
        "    print(b.x, b.y)\n",
        "\n",
        "main()\n",
        "\n",
        "\n"
      ],
      "metadata": {
        "colab": {
          "base_uri": "https://localhost:8080/"
        },
        "id": "dyF6uhYT41uj",
        "outputId": "e9e450c8-59ca-456a-be45-35635cc3ee7d"
      },
      "execution_count": null,
      "outputs": [
        {
          "output_type": "stream",
          "name": "stdout",
          "text": [
            "0 1\n"
          ]
        }
      ]
    },
    {
      "cell_type": "code",
      "source": [
        "class A:\n",
        "  n=10\n",
        "  def __init__(self,z,y=5):\n",
        "    self.zee=z\n",
        "    self.yee=y\n",
        "  def disp(self):\n",
        "    print(self.zee,self.n)\n",
        "class B(A):\n",
        "  def __init__(self,m,x,p):\n",
        "    self.my=m\n",
        "    A.__init__(self,x,p)\n",
        "obj=B(10,15,21)\n",
        "obj.disp()"
      ],
      "metadata": {
        "colab": {
          "base_uri": "https://localhost:8080/"
        },
        "id": "4jwf4n1jBSwI",
        "outputId": "544a1f4f-5f11-49f1-81cc-7299ba07fd2e"
      },
      "execution_count": null,
      "outputs": [
        {
          "output_type": "stream",
          "name": "stdout",
          "text": [
            "15 10\n"
          ]
        }
      ]
    },
    {
      "cell_type": "code",
      "source": [
        "class A:\n",
        "  def __init__(self,x=3):\n",
        "    self._x=x\n",
        "  class B(A):\n",
        "    def __init__(self):\n",
        "      super().__init__(5)\n",
        "    def display(self):\n",
        "      print(self._x)\n",
        "  def main():\n",
        "    obj=B()\n",
        "    obj.display()\n",
        "    main()"
      ],
      "metadata": {
        "id": "dSJ6yfgQD_eV"
      },
      "execution_count": null,
      "outputs": []
    },
    {
      "cell_type": "code",
      "source": [
        "#Polymorphism\n",
        "\n",
        "#OverRiding\n",
        "class Product:\n",
        "  def disp(self):\n",
        "    print(\"This is a product\")\n",
        "class Cal(Product):\n",
        "  def disp(self):\n",
        "    print(\"The name of the product\")\n",
        "    super().disp()\n",
        "p1=Cal()\n",
        "p1.disp()\n"
      ],
      "metadata": {
        "colab": {
          "base_uri": "https://localhost:8080/"
        },
        "id": "43t9ikY5JsfV",
        "outputId": "1565b4b6-8787-4ba2-a44d-dca306bb3dd5"
      },
      "execution_count": null,
      "outputs": [
        {
          "output_type": "stream",
          "name": "stdout",
          "text": [
            "The name of the product\n"
          ]
        }
      ]
    },
    {
      "cell_type": "code",
      "source": [
        "class A:\n",
        "  def __str__(self):\n",
        "    return '1'\n",
        "class B(A):\n",
        "  def __init__(self):\n",
        "    super().__init__()\n",
        "class C(B):\n",
        "  def __init__(self):\n",
        "    super().__init__()\n",
        "def main():\n",
        "  obj1=B()\n",
        "  obj2=A()\n",
        "  obj3=C()\n",
        "  print(obj1,obj2,obj3)\n",
        "main()"
      ],
      "metadata": {
        "colab": {
          "base_uri": "https://localhost:8080/"
        },
        "id": "wiceYMw3a7aI",
        "outputId": "7f224b9e-14fe-4752-ab85-b46b64e02817"
      },
      "execution_count": null,
      "outputs": [
        {
          "output_type": "stream",
          "name": "stdout",
          "text": [
            "1 1 1\n"
          ]
        }
      ]
    },
    {
      "cell_type": "code",
      "source": [
        "class A:\n",
        "  def __init__(self):\n",
        "    self.m=5\n",
        "  def __str__(self):\n",
        "   return str(self.m)\n",
        "objA=A()\n",
        "print(objA)"
      ],
      "metadata": {
        "colab": {
          "base_uri": "https://localhost:8080/"
        },
        "id": "roUvd3MdcE9-",
        "outputId": "b12d5b84-e673-4f05-c3a3-aa7378891393"
      },
      "execution_count": null,
      "outputs": [
        {
          "output_type": "stream",
          "name": "stdout",
          "text": [
            "5\n"
          ]
        }
      ]
    },
    {
      "cell_type": "code",
      "source": [
        "class A:\n",
        "  def __init__(self,x,y):\n",
        "    self.x=x\n",
        "    self.y=y\n",
        "  def __str__(self):\n",
        "    return 1\n",
        "  def __eq__(self,other):\n",
        "    return self.x*self.y==other.x*other.y\n",
        "obj1=A(5,2)\n",
        "obj2=A(2,5)\n",
        "print(obj1==obj2)"
      ],
      "metadata": {
        "colab": {
          "base_uri": "https://localhost:8080/"
        },
        "id": "WU2UmvQ7fF6v",
        "outputId": "dd6d828a-6f46-4d22-bcb4-75036a4f3d32"
      },
      "execution_count": null,
      "outputs": [
        {
          "output_type": "stream",
          "name": "stdout",
          "text": [
            "True\n"
          ]
        }
      ]
    },
    {
      "cell_type": "code",
      "source": [
        "#TCS CodeVita Question\n",
        "#How many numbers will satisfy the consecutive sum of prime numbers give a prime number in a particular range.\n",
        "def isprime(num):\n",
        "    if num==0 or num==1:\n",
        "        return False\n",
        "    for deno in range(2,int(num**0.5)+1):\n",
        "        if num%deno==0:\n",
        "            return False\n",
        "    return True\n",
        "num=int(input())\n",
        "primeList=[i for i in range(2,num+1) if isprime(i)]\n",
        "count,pSum=0,primeList[0]\n",
        "for p in primeList[1:]:\n",
        "    pSum+=p\n",
        "    if pSum>num:\n",
        "        break\n",
        "    if isprime(pSum):\n",
        "        count+=1\n",
        "print(count)\n"
      ],
      "metadata": {
        "colab": {
          "base_uri": "https://localhost:8080/"
        },
        "id": "3aaEoyQzf8In",
        "outputId": "a2667ab6-85df-4a43-e393-f68b82e56999"
      },
      "execution_count": null,
      "outputs": [
        {
          "output_type": "stream",
          "name": "stdout",
          "text": [
            "15\n",
            "1\n"
          ]
        }
      ]
    },
    {
      "cell_type": "code",
      "source": [
        "#Data Encapsulation\n",
        "class Demo:\n",
        "    def __init__(self):\n",
        "        self.a=1\n",
        "        self._b=1\n",
        "    def display(self):\n",
        "        return self._b\n",
        "obj=Demo()\n",
        "print(obj._b)"
      ],
      "metadata": {
        "colab": {
          "base_uri": "https://localhost:8080/"
        },
        "id": "xEGWmpv7wZbH",
        "outputId": "e045c5ac-b288-4074-b5b8-61a58497f36a"
      },
      "execution_count": null,
      "outputs": [
        {
          "output_type": "stream",
          "name": "stdout",
          "text": [
            "1\n"
          ]
        }
      ]
    },
    {
      "cell_type": "code",
      "source": [
        "#Data Abstraction\n",
        "\n",
        "from abc import ABC, abstractmethod\n",
        "\n",
        "class Shape(ABC):\n",
        "    def __init__(self):\n",
        "        print(\"I am in init\")\n",
        "\n",
        "    @abstractmethod\n",
        "    def draw_shape(self):\n",
        "        pass\n",
        "\n",
        "    @abstractmethod\n",
        "    def set_color(self):\n",
        "        pass\n",
        "\n",
        "class Circle(Shape):\n",
        "    def draw_shape(self):\n",
        "        print(\"Draw circle\")\n",
        "\n",
        "    def set_color(self, color):\n",
        "        print(f\"Set circle color to {color}\")\n",
        "\n",
        "# Testing the Circle class\n",
        "circle = Circle()\n",
        "circle.draw_shape()\n",
        "circle.set_color(\"red\")\n",
        "\n"
      ],
      "metadata": {
        "id": "T7jOvqBZ4Iv7",
        "colab": {
          "base_uri": "https://localhost:8080/"
        },
        "outputId": "d3b2c2b6-99df-483b-bec6-acc69f9579f3"
      },
      "execution_count": 39,
      "outputs": [
        {
          "output_type": "stream",
          "name": "stdout",
          "text": [
            "I am in init\n",
            "Draw circle\n",
            "Set circle color to red\n"
          ]
        }
      ]
    }
  ]
}