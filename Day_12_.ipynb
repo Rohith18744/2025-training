{
  "nbformat": 4,
  "nbformat_minor": 0,
  "metadata": {
    "colab": {
      "provenance": [],
      "authorship_tag": "ABX9TyMi9L6UtYBUqETrNALV21GR",
      "include_colab_link": true
    },
    "kernelspec": {
      "name": "python3",
      "display_name": "Python 3"
    },
    "language_info": {
      "name": "python"
    }
  },
  "cells": [
    {
      "cell_type": "markdown",
      "metadata": {
        "id": "view-in-github",
        "colab_type": "text"
      },
      "source": [
        "<a href=\"https://colab.research.google.com/github/Rohith18744/2025-training/blob/main/Day_12_.ipynb\" target=\"_parent\"><img src=\"https://colab.research.google.com/assets/colab-badge.svg\" alt=\"Open In Colab\"/></a>"
      ]
    },
    {
      "cell_type": "code",
      "execution_count": null,
      "metadata": {
        "colab": {
          "base_uri": "https://localhost:8080/"
        },
        "id": "qmqo4NbO8tmX",
        "outputId": "5f67be7d-7783-4f25-cc9e-a63f87da5def"
      },
      "outputs": [
        {
          "output_type": "stream",
          "name": "stdout",
          "text": [
            "0\n",
            "6\n"
          ]
        }
      ],
      "source": [
        "#Regular Expressions\n",
        "#leetcode 1700\n",
        "\n",
        "def count_students_unable_to_eat(students, sandwiches):\n",
        "    unable_to_eat = 0\n",
        "    n = len(students)\n",
        "\n",
        "    while students:\n",
        "        if students[0] == sandwiches[0]:\n",
        "            students.pop(0)\n",
        "            sandwiches.pop(0)\n",
        "            unable_to_eat = 0\n",
        "        else:\n",
        "            students.append(students.pop(0))\n",
        "            unable_to_eat += 1\n",
        "        if unable_to_eat == n:\n",
        "            return n\n",
        "\n",
        "    return len(students)\n",
        "students1 = [1,1,0,0]\n",
        "sandwiches1 = [0,1,0,1]\n",
        "print(count_students_unable_to_eat(students1, sandwiches1))  # Output: 0\n",
        "\n",
        "students2 = [1,1,1,0,0,1]\n",
        "sandwiches2 = [1,0,0,0,1,1]\n",
        "print(count_students_unable_to_eat(students2, sandwiches2))  # Output: 3\n"
      ]
    },
    {
      "cell_type": "code",
      "source": [
        "#leetcode 238\n",
        "class Solution(object):\n",
        "    def productExceptSelf(self, nums):\n",
        "        total_product = 1\n",
        "        zero_count = 0\n",
        "\n",
        "        for num in nums:\n",
        "            if num != 0:\n",
        "                total_product *= num\n",
        "            else:\n",
        "                zero_count += 1\n",
        "        result = []\n",
        "        if zero_count > 1:\n",
        "            return [0] * len(nums)\n",
        "        for num in nums:\n",
        "            if num != 0:\n",
        "                if zero_count == 1:\n",
        "                    result.append(0)\n",
        "                else:\n",
        "                    result.append(total_product // num)\n",
        "            else:\n",
        "                result.append(total_product)\n",
        "        return result"
      ],
      "metadata": {
        "id": "_nX4DVvR-R54"
      },
      "execution_count": null,
      "outputs": []
    },
    {
      "cell_type": "code",
      "source": [
        "#leetcode 79\n",
        "class Solution:\n",
        "    def exist(self, board, word):\n",
        "        def backtrack(i, j, k):\n",
        "            if k == len(word):\n",
        "                return True\n",
        "            if i < 0 or i >= len(board) or j < 0 or j >= len(board[0]) or board[i][j] != word[k]:\n",
        "                return False\n",
        "\n",
        "            temp = board[i][j]\n",
        "            board[i][j] = ''\n",
        "\n",
        "            if backtrack(i+1, j, k+1) or backtrack(i-1, j, k+1) or backtrack(i, j+1, k+1) or backtrack(i, j-1, k+1):\n",
        "                return True\n",
        "\n",
        "            board[i][j] = temp\n",
        "            return False\n",
        "\n",
        "        for i in range(len(board)):\n",
        "            for j in range(len(board[0])):\n",
        "                if backtrack(i, j, 0):\n",
        "                    return True\n",
        "        return False"
      ],
      "metadata": {
        "id": "i-3bgEs4-Ugi"
      },
      "execution_count": null,
      "outputs": []
    },
    {
      "cell_type": "code",
      "source": [
        "#leetcode 17\n",
        "def letterCombinations(digits):\n",
        "    if not digits:\n",
        "        return []\n",
        "    digit_to_letters = {\n",
        "        '2': 'abc', '3': 'def', '4': 'ghi', '5': 'jkl',\n",
        "        '6': 'mno', '7': 'pqrs', '8': 'tuv', '9': 'wxyz'\n",
        "    }\n",
        "    def combine(prefix, remaining_digits):\n",
        "        if not remaining_digits:\n",
        "            combinations.append(prefix)\n",
        "            return\n",
        "        current_digit = remaining_digits[0]\n",
        "        for letter in digit_to_letters[current_digit]:\n",
        "            combine(prefix + letter, remaining_digits[1:])\n",
        "\n",
        "    combinations = []\n",
        "    combine('', digits)\n",
        "\n",
        "    return combinations\n",
        "\n",
        "# Example Usage\n",
        "print(letterCombinations(\"23\"))  # Output: [\"ad\",\"ae\",\"af\",\"bd\",\"be\",\"bf\",\"cd\",\"ce\",\"cf\"]\n",
        "print(letterCombinations(\"\"))    # Output: []\n",
        "print(letterCombinations(\"2\"))   # Output: [\"a\",\"b\",\"c\"]\n"
      ],
      "metadata": {
        "id": "FKAzSdowEqTF"
      },
      "execution_count": null,
      "outputs": []
    }
  ]
}