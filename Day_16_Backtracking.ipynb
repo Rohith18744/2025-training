{
  "nbformat": 4,
  "nbformat_minor": 0,
  "metadata": {
    "colab": {
      "provenance": [],
      "authorship_tag": "ABX9TyNwgACtZZDDBiJfcw6792kd",
      "include_colab_link": true
    },
    "kernelspec": {
      "name": "python3",
      "display_name": "Python 3"
    },
    "language_info": {
      "name": "python"
    }
  },
  "cells": [
    {
      "cell_type": "markdown",
      "metadata": {
        "id": "view-in-github",
        "colab_type": "text"
      },
      "source": [
        "<a href=\"https://colab.research.google.com/github/Rohith18744/2025-training/blob/main/Day_16_Backtracking.ipynb\" target=\"_parent\"><img src=\"https://colab.research.google.com/assets/colab-badge.svg\" alt=\"Open In Colab\"/></a>"
      ]
    },
    {
      "cell_type": "code",
      "execution_count": null,
      "metadata": {
        "colab": {
          "base_uri": "https://localhost:8080/"
        },
        "id": "9ly11YJv1PK2",
        "outputId": "2d973aba-e98a-4ebd-a348-682b2cd75f79"
      },
      "outputs": [
        {
          "output_type": "stream",
          "name": "stdout",
          "text": [
            "ABC\n",
            "ACB\n",
            "BAC\n",
            "BCA\n",
            "CBA\n",
            "CAB\n"
          ]
        }
      ],
      "source": [
        "#Permutations of a string\n",
        "def toString(List):\n",
        "    return ''.join(List)\n",
        "\n",
        "def permute(a, l, r):\n",
        "    if l == r:\n",
        "        print(toString(a))\n",
        "    else:\n",
        "        for i in range(l, r):\n",
        "            a[l], a[i] = a[i], a[l]  # Swap\n",
        "            permute(a, l + 1, r)     # Recurse\n",
        "            a[l], a[i] = a[i], a[l]  # Backtrack (swap back)\n",
        "\n",
        "string = \"ABC\"\n",
        "n = len(string)\n",
        "a = list(string)\n",
        "permute(a, 0, n)\n"
      ]
    },
    {
      "cell_type": "code",
      "source": [
        "#Reverse using recursion\n",
        "def recReverse(dList,left,right):\n",
        "    if left>=right:\n",
        "        return dList\n",
        "    dList[left],dList[right]=dList[right],dList[left]\n",
        "    return recReverse(dList,left+1,right-1)\n",
        "numList1=[7,9,4,3,2]\n",
        "numList2=[6,8,10,4,14,6]\n",
        "n=len(numList1)\n",
        "print(recReverse(numList1,0,n-1))\n",
        "n=len(numList2)\n",
        "print(recReverse(numList2,0,n-1))"
      ],
      "metadata": {
        "colab": {
          "base_uri": "https://localhost:8080/"
        },
        "id": "5VBCX7Dt-Of5",
        "outputId": "3cba82a2-62b6-409d-8585-c35eb98ec23e"
      },
      "execution_count": null,
      "outputs": [
        {
          "output_type": "stream",
          "name": "stdout",
          "text": [
            "[2, 3, 4, 9, 7]\n",
            "[6, 14, 4, 10, 8, 6]\n"
          ]
        }
      ]
    },
    {
      "cell_type": "code",
      "source": [
        "#def toSet(List):\n",
        "   # return set(List)\n",
        "def permute(List,l,r):\n",
        "    if l==r:\n",
        "        print(List)\n",
        "    for i in range(l,r):\n",
        "        List[l],List[i]=List[i],List[l]\n",
        "        permute(List,l+1,r)\n",
        "        List[l],List[i]=List[i],List[l]\n",
        "data=(1,2,3)\n",
        "n=len(data)\n",
        "permute(list(data),0,n)\n"
      ],
      "metadata": {
        "colab": {
          "base_uri": "https://localhost:8080/"
        },
        "id": "hirr2W1kD0aM",
        "outputId": "ffd505e0-7ddb-49ba-fdd2-75d0f96ead3d"
      },
      "execution_count": null,
      "outputs": [
        {
          "output_type": "stream",
          "name": "stdout",
          "text": [
            "[1, 2, 3]\n",
            "[1, 3, 2]\n",
            "[2, 1, 3]\n",
            "[2, 3, 1]\n",
            "[3, 2, 1]\n",
            "[3, 1, 2]\n"
          ]
        }
      ]
    },
    {
      "cell_type": "code",
      "source": [
        "#leetcode 46\n",
        "class Solution:\n",
        "    def permute(self, nums: List[int]) -> List[List[int]]:\n",
        "        def backtrack(start: int, end: int):\n",
        "            if start == end:\n",
        "                result.append(nums[:])\n",
        "            for i in range(start, end):\n",
        "                nums[start], nums[i] = nums[i], nums[start]  # Swap\n",
        "                backtrack(start + 1, end)                   # Recurse\n",
        "                nums[start], nums[i] = nums[i], nums[start]\n",
        "        result = []\n",
        "        backtrack(0, len(nums))\n",
        "        return result"
      ],
      "metadata": {
        "id": "C2r1eZDOOOZL"
      },
      "execution_count": null,
      "outputs": []
    },
    {
      "cell_type": "code",
      "source": [
        "#leetcode 47\n",
        "from typing import List\n",
        "\n",
        "class Solution:\n",
        "    def permuteUnique(self, nums: List[int]) -> List[List[int]]:\n",
        "        def backtrack(start: int, end: int):\n",
        "            if start == end:\n",
        "                result.append(nums[:])\n",
        "            seen = set()\n",
        "            for i in range(start, end):\n",
        "                if nums[i] in seen:\n",
        "                    continue\n",
        "                seen.add(nums[i])\n",
        "                nums[start], nums[i] = nums[i], nums[start]  # Swap\n",
        "                backtrack(start + 1, end)                   # Recurse\n",
        "                nums[start], nums[i] = nums[i], nums[start]  # Backtrack (swap back)\n",
        "\n",
        "        nums.sort()  # Sort to make it easier to handle duplicates\n",
        "        result = []\n",
        "        backtrack(0, len(nums))\n",
        "        return result\n",
        "\n",
        "# Example usage:\n",
        "sol = Solution()\n",
        "data1 = [1, 1, 2]\n",
        "permutations1 = sol.permuteUnique(data1)\n",
        "print(permutations1)\n",
        "\n",
        "data2 = [1, 2, 3]\n",
        "permutations2 = sol.permuteUnique(data2)\n",
        "print(permutations2)\n"
      ],
      "metadata": {
        "id": "w1WdysM9QXIQ"
      },
      "execution_count": null,
      "outputs": []
    },
    {
      "cell_type": "code",
      "source": [
        "#leetcode 22\n",
        "class Solution:\n",
        "    def generateParenthesis(self, n: int) -> List[str]:\n",
        "        resList=[]\n",
        "        def recParenthesis(left,right,s,n):\n",
        "            if len(s)==n*2:\n",
        "                resList.append(s)\n",
        "                return\n",
        "            if left<n:\n",
        "                recParenthesis(left+1,right,s+'(',n)\n",
        "            if right<left:\n",
        "                recParenthesis(left,right+1,s+')',n)\n",
        "        recParenthesis(0,0,'',n)\n",
        "        return resList"
      ],
      "metadata": {
        "id": "ZgUprjkFQmgF"
      },
      "execution_count": null,
      "outputs": []
    },
    {
      "cell_type": "code",
      "source": [
        "#leetcode 1710\n",
        "class Solution:\n",
        "    def maximumUnits(self, boxTypes, truckSize):\n",
        "        # Step 1: Sort the boxes by the number of units per box in descending order\n",
        "        boxTypes.sort(key=lambda x: x[1], reverse=True)\n",
        "\n",
        "        total_units = 0\n",
        "        for numberOfBoxes, unitsPerBox in boxTypes:\n",
        "            if truckSize <= 0:\n",
        "                break\n",
        "            # Take as many boxes as possible\n",
        "            boxes_to_take = min(numberOfBoxes, truckSize)\n",
        "            total_units += boxes_to_take * unitsPerBox\n",
        "            truckSize -= boxes_to_take\n",
        "\n",
        "        return total_units\n",
        "\n",
        "# Example 1\n",
        "boxTypes1 = [[1, 3], [2, 2], [3, 1]]\n",
        "truckSize1 = 4\n",
        "sol = Solution()\n",
        "print(sol.maximumUnits(boxTypes1, truckSize1))  # Output: 8\n",
        "\n",
        "# Example 2\n",
        "boxTypes2 = [[5, 10], [2, 5], [4, 7], [3, 9]]\n",
        "truckSize2 = 10\n",
        "print(sol.maximumUnits(boxTypes2, truckSize2))  # Output: 91\n"
      ],
      "metadata": {
        "id": "SCeN5WiwanAl"
      },
      "execution_count": null,
      "outputs": []
    },
    {
      "cell_type": "code",
      "source": [
        "#leetcode 1736\n"
      ],
      "metadata": {
        "id": "qP5T1xuCJtjW"
      },
      "execution_count": null,
      "outputs": []
    }
  ]
}