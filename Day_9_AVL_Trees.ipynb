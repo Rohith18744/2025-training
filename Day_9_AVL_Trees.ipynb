{
  "nbformat": 4,
  "nbformat_minor": 0,
  "metadata": {
    "colab": {
      "provenance": [],
      "authorship_tag": "ABX9TyOFLJ2VbAdOk1quhIrbKdkS",
      "include_colab_link": true
    },
    "kernelspec": {
      "name": "python3",
      "display_name": "Python 3"
    },
    "language_info": {
      "name": "python"
    }
  },
  "cells": [
    {
      "cell_type": "markdown",
      "metadata": {
        "id": "view-in-github",
        "colab_type": "text"
      },
      "source": [
        "<a href=\"https://colab.research.google.com/github/Rohith18744/2025-training/blob/main/Day_9_AVL_Trees.ipynb\" target=\"_parent\"><img src=\"https://colab.research.google.com/assets/colab-badge.svg\" alt=\"Open In Colab\"/></a>"
      ]
    },
    {
      "cell_type": "code",
      "execution_count": null,
      "metadata": {
        "id": "frrR08xlfM50"
      },
      "outputs": [],
      "source": [
        "#Binary Tree\n",
        "#Balanced tree\n",
        "#differnce b/w height of left subtree and height of right subtree not differ more than 1\n",
        "#AVL Trees\n"
      ]
    },
    {
      "cell_type": "code",
      "source": [
        "#Construct AVL Tree by inserting 63,9,19,27,18,108\n",
        "class AVLNode:\n",
        "    def __init__(self, key):\n",
        "        self.key = key\n",
        "        self.left = None\n",
        "        self.right = None\n",
        "        self.height = 1\n",
        "\n",
        "class AVLTree:\n",
        "    def insert(self, root, key):\n",
        "        # Perform normal BST insertion\n",
        "        if not root:\n",
        "            return AVLNode(key)\n",
        "        elif key < root.key:\n",
        "            root.left = self.insert(root.left, key)\n",
        "        else:\n",
        "            root.right = self.insert(root.right, key)\n",
        "\n",
        "        # Update the height of the current node\n",
        "        root.height = 1 + max(self.get_height(root.left), self.get_height(root.right))\n",
        "\n",
        "        # Get the balance factor to check whether this node became unbalanced\n",
        "        balance = self.get_balance(root)\n",
        "\n",
        "        # If the node is unbalanced, then there are 4 cases\n",
        "\n",
        "        # Left Left Case\n",
        "        if balance > 1 and key < root.left.key:\n",
        "            return self.right_rotate(root)\n",
        "\n",
        "        # Right Right Case\n",
        "        if balance < -1 and key > root.right.key:\n",
        "            return self.left_rotate(root)\n",
        "\n",
        "        # Left Right Case\n",
        "        if balance > 1 and key > root.left.key:\n",
        "            root.left = self.left_rotate(root.left)\n",
        "            return self.right_rotate(root)\n",
        "\n",
        "        # Right Left Case\n",
        "        if balance < -1 and key < root.right.key:\n",
        "            root.right = self.right_rotate(root.right)\n",
        "            return self.left_rotate(root)\n",
        "\n",
        "        return root\n",
        "\n",
        "    def left_rotate(self, z):\n",
        "        y = z.right\n",
        "        T2 = y.left\n",
        "\n",
        "        # Perform rotation\n",
        "        y.left = z\n",
        "        z.right = T2\n",
        "\n",
        "        # Update heights\n",
        "        z.height = 1 + max(self.get_height(z.left), self.get_height(z.right))\n",
        "        y.height = 1 + max(self.get_height(y.left), self.get_height(y.right))\n",
        "\n",
        "        # Return the new root\n",
        "        return y\n",
        "\n",
        "    def right_rotate(self, z):\n",
        "        y = z.left\n",
        "        T3 = y.right\n",
        "\n",
        "        # Perform rotation\n",
        "        y.right = z\n",
        "        z.left = T3\n",
        "\n",
        "        # Update heights\n",
        "        z.height = 1 + max(self.get_height(z.left), self.get_height(z.right))\n",
        "        y.height = 1 + max(self.get_height(y.left), self.get_height(y.right))\n",
        "\n",
        "        # Return the new root\n",
        "        return y\n",
        "\n",
        "    def get_height(self, root):\n",
        "        if not root:\n",
        "            return 0\n",
        "        return root.height\n",
        "\n",
        "    def get_balance(self, root):\n",
        "        if not root:\n",
        "            return 0\n",
        "        return self.get_height(root.left) - self.get_height(root.right)\n",
        "\n",
        "    def pre_order(self, root):\n",
        "        if not root:\n",
        "            return\n",
        "        print(\"{0} \".format(root.key), end=\"\")\n",
        "        self.pre_order(root.left)\n",
        "        self.pre_order(root.right)\n",
        "\n",
        "# Usage\n",
        "avl_tree = AVLTree()\n",
        "root = None\n",
        "keys = [63, 9, 19, 27, 18, 108]\n",
        "\n",
        "for key in keys:\n",
        "    root = avl_tree.insert(root, key)\n",
        "\n",
        "print(\"Pre-order traversal of the constructed AVL tree is:\")\n",
        "avl_tree.pre_order(root)\n",
        "print(\"\\n\")\n",
        "\n",
        "def print_balances(node, avl_tree):\n",
        "    if not node:\n",
        "        return\n",
        "    print(f\"Node {node.key} balance factor: {avl_tree.get_balance(node)}\")\n",
        "    print_balances(node.left, avl_tree)\n",
        "    print_balances(node.right, avl_tree)\n",
        "\n",
        "print_balances(root, avl_tree)\n"
      ],
      "metadata": {
        "colab": {
          "base_uri": "https://localhost:8080/"
        },
        "id": "PsgNlVucp0t6",
        "outputId": "cf23e555-8e17-4688-d5ad-956e0ae48543"
      },
      "execution_count": null,
      "outputs": [
        {
          "output_type": "stream",
          "name": "stdout",
          "text": [
            "Pre-order traversal of the constructed AVL tree is:\n",
            "19 9 18 63 27 108 \n",
            "\n",
            "Node 19 balance factor: 0\n",
            "Node 9 balance factor: -1\n",
            "Node 18 balance factor: 0\n",
            "Node 63 balance factor: 0\n",
            "Node 27 balance factor: 0\n",
            "Node 108 balance factor: 0\n"
          ]
        }
      ]
    },
    {
      "cell_type": "code",
      "source": [
        "#Avl Tree 1,23,16,45,86,89,95,33,0,5\n",
        "         45\n",
        "      16    89\n",
        "    1  23  86  95\n",
        "  0  5   33"
      ],
      "metadata": {
        "id": "Lq1-xxCauiid"
      },
      "execution_count": null,
      "outputs": []
    },
    {
      "cell_type": "code",
      "source": [
        "#Code Forces 136A\n",
        "def find_gift_givers(n, p):\n",
        "    result = [0] * n\n",
        "    for giver in range(n):\n",
        "        receiver = p[giver]\n",
        "        result[receiver - 1] = giver + 1\n",
        "    return result\n",
        "\n",
        "# Input reading\n",
        "n = int(input())\n",
        "p = list(map(int, input().split()))\n",
        "\n",
        "# Find gift givers\n",
        "result = find_gift_givers(n, p)\n",
        "\n",
        "# Output the result\n",
        "print(' '.join(map(str, result)))\n"
      ],
      "metadata": {
        "colab": {
          "base_uri": "https://localhost:8080/"
        },
        "id": "dKd_Izz7EBOY",
        "outputId": "4f539db4-45c8-4a03-919d-91d82c4dc487"
      },
      "execution_count": null,
      "outputs": [
        {
          "output_type": "stream",
          "name": "stdout",
          "text": [
            "4 \n",
            "2 3 4 1\n",
            "4 1 2 3\n"
          ]
        }
      ]
    },
    {
      "cell_type": "code",
      "source": [
        "#2\n",
        "n=int(input())\n",
        "flist=list(map(int,input().split()))\n",
        "info={}\n",
        "k=1\n",
        "for i in flist:\n",
        "    info[i-1]=k\n",
        "    k+=1\n",
        "#print(info.values())\n",
        "for i in range(n):\n",
        "    print(info[i],end=' ')"
      ],
      "metadata": {
        "colab": {
          "base_uri": "https://localhost:8080/"
        },
        "id": "ryfX8PeGFoTB",
        "outputId": "136b2c38-4f17-4058-8ad6-e6595a9da32d"
      },
      "execution_count": null,
      "outputs": [
        {
          "output_type": "stream",
          "name": "stdout",
          "text": [
            "4\n",
            "2 3 4 1\n",
            "4 1 2 3 "
          ]
        }
      ]
    },
    {
      "cell_type": "code",
      "source": [
        "#codeforces 460C\n",
        "def max_height_of_smallest_flower(n, m, w, heights):\n",
        "    max_growth = float('-inf')\n",
        "\n",
        "    # Iterate through each flower as starting point of watering\n",
        "    for i in range(n):\n",
        "        total_height = 0\n",
        "\n",
        "        # Calculate the sum of heights of flowers within the watering area\n",
        "        for j in range(w):\n",
        "            if i + j < n:  # Ensure we stay within the bounds of the flowers\n",
        "                total_height += heights[i + j]\n",
        "\n",
        "        # Update the maximum growth achieved\n",
        "        max_growth = max(max_growth, total_height)\n",
        "\n",
        "    return max_growth\n",
        "\n",
        "# Input reading\n",
        "n, m, w = map(int, input().split())\n",
        "heights = list(map(int, input().split()))\n",
        "\n",
        "# Calculate and output the maximum final height of the smallest flower\n",
        "print(max_height_of_smallest_flower(n, m, w, heights))\n",
        "\n"
      ],
      "metadata": {
        "colab": {
          "base_uri": "https://localhost:8080/"
        },
        "id": "ef-hefIpP0KH",
        "outputId": "1a7f986a-1098-4767-8d16-9a2a891c2780"
      },
      "execution_count": null,
      "outputs": [
        {
          "output_type": "stream",
          "name": "stdout",
          "text": [
            "5 1 2\n",
            "2 2 1 4 5\n",
            "9\n"
          ]
        }
      ]
    },
    {
      "cell_type": "code",
      "source": [
        "#codeforces 266 B\n",
        "def transform_queue(n, t, s):\n",
        "    queue = list(s)\n",
        "\n",
        "    for _ in range(t):\n",
        "        i = 0\n",
        "        while i < n - 1:\n",
        "            if queue[i] == 'B' and queue[i + 1] == 'G':\n",
        "                queue[i], queue[i + 1] = queue[i + 1], queue[i]\n",
        "                i += 2  # Skip the swapped positions\n",
        "            else:\n",
        "                i += 1\n",
        "\n",
        "    return ''.join(queue)\n",
        "\n",
        "# Input reading\n",
        "n, t = map(int, input().split())\n",
        "s = input()\n",
        "\n",
        "# Transform the queue and print the result\n",
        "print(transform_queue(n, t, s))\n"
      ],
      "metadata": {
        "id": "5mDe5222bZI6"
      },
      "execution_count": null,
      "outputs": []
    },
    {
      "cell_type": "code",
      "source": [
        "#2\n",
        "n, t = map(int, input().split())\n",
        "s = list(input().strip())\n",
        "for _ in range(t):\n",
        "    i = 0\n",
        "    while i < n - 1:\n",
        "        if s[i] == \"B\" and s[i - 1] == \"G\":\n",
        "            temp = s[i]\n",
        "            s[i] = s[i + 1]\n",
        "            s[i + 1] = temp\n",
        "            i += 1\n",
        "        i += 1\n",
        "print(\"\".join(s))"
      ],
      "metadata": {
        "colab": {
          "base_uri": "https://localhost:8080/"
        },
        "id": "mvVeFsk8hcLi",
        "outputId": "bd07f7cf-673b-475d-8794-4f1424acca62"
      },
      "execution_count": null,
      "outputs": [
        {
          "output_type": "stream",
          "name": "stdout",
          "text": [
            "5 1\n",
            "BGGBG\n",
            "BGGGB\n"
          ]
        }
      ]
    },
    {
      "cell_type": "code",
      "source": [
        "#336 B\n",
        "m,r=map(int,input().split())\n",
        "answer=(m*(m+1)*(m+2)/3-m)*2\n",
        "answer+=(2.0**0.5-2)*((m*m-m)+(m*m-(m-1)*2))\n",
        "answer/=(m**2)\n",
        "answer*=r\n",
        "print(\"{:10f}\".format(round(answer,10)))"
      ],
      "metadata": {
        "colab": {
          "base_uri": "https://localhost:8080/"
        },
        "id": "_lUNGW7Sto7n",
        "outputId": "c4d0fa8d-86cf-4559-fc35-a008463bd6ae"
      },
      "execution_count": null,
      "outputs": [
        {
          "output_type": "stream",
          "name": "stdout",
          "text": [
            "2 2\n",
            "  4.828427\n"
          ]
        }
      ]
    },
    {
      "cell_type": "code",
      "source": [
        "#337A Puzzles\n",
        "n,m=map(int,input().split())\n",
        "f=list(map(int,input().split()))\n",
        "print(abs(min(f[:n])-max(f[:n])))\n"
      ],
      "metadata": {
        "colab": {
          "base_uri": "https://localhost:8080/"
        },
        "id": "hmJPVPZL3Pnd",
        "outputId": "83972b9b-6898-4858-8d18-f70b92195e40"
      },
      "execution_count": null,
      "outputs": [
        {
          "output_type": "stream",
          "name": "stdout",
          "text": [
            "4 6\n",
            "10 12 10 7 5 22\n",
            "5\n"
          ]
        }
      ]
    },
    {
      "cell_type": "code",
      "source": [
        "#78A Haiku\n",
        "p1=input()\n",
        "p2=input()\n",
        "p3=input()\n",
        "vowels=['a','e','i','o','u']\n",
        "haiku=[5,7,5]\n",
        "res=[]\n",
        "for i in (p1,p2,p3):\n",
        "  count=0\n",
        "  for c in i:\n",
        "    if c in vowels:\n",
        "      count+=1\n",
        "  res.append(count)\n",
        "if res==haiku:\n",
        "  print(\"Yes\")\n",
        "else:\n",
        "  print(\"No\")\n",
        "\n",
        "\n"
      ],
      "metadata": {
        "colab": {
          "base_uri": "https://localhost:8080/"
        },
        "id": "0drDQInuENXX",
        "outputId": "732e34b0-c7cc-4373-9093-578f22c24d61"
      },
      "execution_count": null,
      "outputs": [
        {
          "output_type": "stream",
          "name": "stdout",
          "text": [
            "on  codeforces \n",
            "beta round is running\n",
            "a rustling of keys \n",
            "Yes\n"
          ]
        }
      ]
    }
  ]
}