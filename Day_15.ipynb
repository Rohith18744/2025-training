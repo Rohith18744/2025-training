{
  "nbformat": 4,
  "nbformat_minor": 0,
  "metadata": {
    "colab": {
      "provenance": [],
      "authorship_tag": "ABX9TyPstlMZrDNUR3P+InHjNkrF",
      "include_colab_link": true
    },
    "kernelspec": {
      "name": "python3",
      "display_name": "Python 3"
    },
    "language_info": {
      "name": "python"
    }
  },
  "cells": [
    {
      "cell_type": "markdown",
      "metadata": {
        "id": "view-in-github",
        "colab_type": "text"
      },
      "source": [
        "<a href=\"https://colab.research.google.com/github/Rohith18744/2025-training/blob/main/Day_15.ipynb\" target=\"_parent\"><img src=\"https://colab.research.google.com/assets/colab-badge.svg\" alt=\"Open In Colab\"/></a>"
      ]
    },
    {
      "cell_type": "code",
      "execution_count": null,
      "metadata": {
        "colab": {
          "base_uri": "https://localhost:8080/"
        },
        "id": "zuiSLRDMjd8S",
        "outputId": "d1fff834-ae30-48af-a552-19f6e28bd559"
      },
      "outputs": [
        {
          "output_type": "stream",
          "name": "stdout",
          "text": [
            "3\n"
          ]
        }
      ],
      "source": [
        "#Problem meatball\n",
        "from collections import deque\n",
        "\n",
        "def last_served_meatball_index(N, D, weights):\n",
        "    # Create a queue with tuples (weight, index)\n",
        "    queue = deque((weight, i + 1) for i, weight in enumerate(weights))\n",
        "\n",
        "    last_served_index = -1\n",
        "\n",
        "    while queue:\n",
        "        weight, index = queue.popleft()\n",
        "        if weight <= D:\n",
        "            # Meatball is fully served\n",
        "            last_served_index = index\n",
        "        else:\n",
        "            # Meatball is cut and re-added with remaining weight\n",
        "            queue.append((weight - D, index))\n",
        "\n",
        "    return last_served_index\n",
        "\n",
        "# Example usage:\n",
        "N = 4\n",
        "D = 2\n",
        "weights = [7, 8, 9, 3]\n",
        "print(last_served_meatball_index(N, D, weights))  # Output: 3\n"
      ]
    },
    {
      "cell_type": "code",
      "source": [
        "#Self Sufficient\n",
        "N=int(input())\n",
        "eList=list(map(int,input().split()))\n",
        "cList=list(map(int,input().split()))\n",
        "costing=sum(eList)-sum(cList)\n",
        "if costing < 0:\n",
        "    print(abs(costing))\n",
        "else:\n",
        "    print(\"0\")"
      ],
      "metadata": {
        "colab": {
          "base_uri": "https://localhost:8080/"
        },
        "id": "OwVOReVL0_Y4",
        "outputId": "18e90bbe-eb47-486c-cb6b-e394c50b95b4"
      },
      "execution_count": null,
      "outputs": [
        {
          "output_type": "stream",
          "name": "stdout",
          "text": [
            "3\n",
            "3 4 2\n",
            "5 3 4\n",
            "3\n"
          ]
        }
      ]
    },
    {
      "cell_type": "code",
      "source": [
        "import math\n",
        "n=int(input())-1\n",
        "m=int(input())-1\n",
        "x=int(input())-1\n",
        "y=int(input())-1\n",
        "def validPath():\n",
        "  total_path=math.factorial(n+m)//(math.factorial(n)*math.factorial(m))\n",
        "  path_to_xy=math.factorial(x+y)//(math.factorial(x)*math.factorial(y))\n",
        "  xy_to_mn=math.factorial(n-x+m-y)//(math.factorial(n-x)*math.factorial(m-y))\n",
        "  return total_path-(path_to_xy*xy_to_mn)\n",
        "print(validPath())\n",
        "\n"
      ],
      "metadata": {
        "colab": {
          "base_uri": "https://localhost:8080/"
        },
        "id": "p78VwI41EFa2",
        "outputId": "9ad5a083-19ec-4541-a8b2-8e22669355ae"
      },
      "execution_count": null,
      "outputs": [
        {
          "output_type": "stream",
          "name": "stdout",
          "text": [
            "2\n",
            "2\n",
            "2\n",
            "1\n",
            "1\n"
          ]
        }
      ]
    },
    {
      "cell_type": "code",
      "source": [
        "def canPlaceFlowers(flowerbed, n):\n",
        "    count = 0\n",
        "    length = len(flowerbed)\n",
        "\n",
        "    for i in range(length):\n",
        "        if flowerbed[i] == 0:\n",
        "            empty_left = (i == 0) or (flowerbed[i - 1] == 0)\n",
        "            empty_right = (i == length - 1) or (flowerbed[i + 1] == 0)\n",
        "            if empty_left and empty_right:\n",
        "                flowerbed[i] = 1\n",
        "                count += 1\n",
        "                if count >= n:\n",
        "                    return True\n",
        "    return count >= n\n",
        "flowerbed1 = [1, 0, 0, 0, 1]\n",
        "n1 = 1\n",
        "print(canPlaceFlowers(flowerbed1, n1))\n",
        "flowerbed2 = [1, 0, 0, 0, 1]\n",
        "n2 = 2\n",
        "print(canPlaceFlowers(flowerbed2, n2))\n"
      ],
      "metadata": {
        "colab": {
          "base_uri": "https://localhost:8080/"
        },
        "id": "uEdmDOjylTP2",
        "outputId": "99dee0d9-bf61-4064-c892-91af3e27bf6e"
      },
      "execution_count": null,
      "outputs": [
        {
          "output_type": "stream",
          "name": "stdout",
          "text": [
            "True\n",
            "False\n"
          ]
        }
      ]
    },
    {
      "cell_type": "code",
      "source": [
        "#leetcode 1403\n",
        "class Solution:\n",
        "    def minSubsequence(self, nums):\n",
        "        # Sort the nums array in non-increasing order\n",
        "        nums.sort(reverse=True)\n",
        "\n",
        "        total_sum = sum(nums)\n",
        "        subseq_sum = 0\n",
        "        subsequence = []\n",
        "\n",
        "        # Iterate through the sorted array and build the subsequence\n",
        "        for num in nums:\n",
        "            subseq_sum += num\n",
        "            subsequence.append(num)\n",
        "\n",
        "            # Check if the sum of the subsequence is strictly greater\n",
        "            # than the sum of the remaining elements\n",
        "            if subseq_sum > total_sum - subseq_sum:\n",
        "                break\n",
        "\n",
        "        return subsequence\n",
        "solution = Solution()\n",
        "\n",
        "nums1 = [4, 3, 10, 9, 8]\n",
        "print(solution.minSubsequence(nums1))  # Output: [10, 9]\n",
        "\n",
        "nums2 = [4, 4, 7, 6, 7]\n",
        "print(solution.minSubsequence(nums2))  # Output: [7, 7, 6]\n"
      ],
      "metadata": {
        "id": "9bfbAu6Grg-2"
      },
      "execution_count": null,
      "outputs": []
    }
  ]
}