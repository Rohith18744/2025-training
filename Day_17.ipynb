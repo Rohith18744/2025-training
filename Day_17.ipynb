{
  "nbformat": 4,
  "nbformat_minor": 0,
  "metadata": {
    "colab": {
      "provenance": [],
      "authorship_tag": "ABX9TyPo3avvYiDPzxsdC3TKIJwY",
      "include_colab_link": true
    },
    "kernelspec": {
      "name": "python3",
      "display_name": "Python 3"
    },
    "language_info": {
      "name": "python"
    }
  },
  "cells": [
    {
      "cell_type": "markdown",
      "metadata": {
        "id": "view-in-github",
        "colab_type": "text"
      },
      "source": [
        "<a href=\"https://colab.research.google.com/github/Rohith18744/2025-training/blob/main/Day_17.ipynb\" target=\"_parent\"><img src=\"https://colab.research.google.com/assets/colab-badge.svg\" alt=\"Open In Colab\"/></a>"
      ]
    },
    {
      "cell_type": "code",
      "execution_count": null,
      "metadata": {
        "id": "N1Hnm3FU2R80",
        "colab": {
          "base_uri": "https://localhost:8080/"
        },
        "outputId": "76385bee-f82d-4344-df02-5902e86390d2"
      },
      "outputs": [
        {
          "output_type": "stream",
          "name": "stdout",
          "text": [
            "[10, 12, 8, 16, 13, 5]\n"
          ]
        }
      ],
      "source": [
        "#Sum of the elements of list1 with last elment in reverse order of list 2\n",
        "#List 1=6 5 2 7 9 3\n",
        "#List 2=2 4 9 6 7 4\n",
        "#Res=[10,12,8,16,13,5]\n",
        "def sum_with_reversed_last_recursive(list1, list2, index=0):\n",
        "    # Base case: if index reaches the length of list1, return an empty list\n",
        "    if index == len(list1):\n",
        "        return []\n",
        "    # Recursive case: sum the current element of list1 with the corresponding element of reversed list2\n",
        "    else:\n",
        "        reversed_index = len(list2) - 1 - index\n",
        "        return [list1[index] + list2[reversed_index]] + sum_with_reversed_last_recursive(list1, list2, index + 1)\n",
        "\n",
        "# Given lists\n",
        "list1 = [6, 5, 2, 7, 9, 3]\n",
        "list2 = [2, 4, 9, 6, 7, 4]\n",
        "\n",
        "# Calculate the result using recursion\n",
        "result = sum_with_reversed_last_recursive(list1, list2)\n",
        "\n",
        "# Print the result\n",
        "print(result)\n"
      ]
    },
    {
      "cell_type": "code",
      "source": [
        "List1=[6, 5 ,2, 7 ,9 ,3]\n",
        "List2=[2,4,9,6,7,4]\n",
        "res=[]\n",
        "def recSum(left,right):\n",
        "    if left==len(List1) and right==-1:\n",
        "        return\n",
        "    res.append(List1[left]+List2[right])\n",
        "    recSum(left+1,right-1)\n",
        "recSum(0,len(List2)-1)\n",
        "print(res)"
      ],
      "metadata": {
        "colab": {
          "base_uri": "https://localhost:8080/"
        },
        "id": "yqnWijLl_k_K",
        "outputId": "5b925c57-7e1a-4115-844a-f1b208b29223"
      },
      "execution_count": null,
      "outputs": [
        {
          "output_type": "stream",
          "name": "stdout",
          "text": [
            "[10, 12, 8, 16, 13, 5]\n"
          ]
        }
      ]
    },
    {
      "cell_type": "code",
      "source": [
        "List1 = [12, 3, 6]\n",
        "List2 = [4, 13, 9, 7, 0]\n",
        "res = []\n",
        "\n",
        "def recSum(left, right):\n",
        "    # Base case: if right is negative, stop recursion\n",
        "    if right == -1:\n",
        "        return\n",
        "    if left < len(List1):\n",
        "        res.append(List1[left] + List2[right])\n",
        "    else:\n",
        "        res.append(List2[right])\n",
        "    recSum(left + 1, right - 1)\n",
        "\n",
        "recSum(0, len(List2) - 1)\n",
        "print(res)\n"
      ],
      "metadata": {
        "colab": {
          "base_uri": "https://localhost:8080/"
        },
        "id": "YLzgOktiEg7B",
        "outputId": "1a2c7208-cebc-41d9-e223-836b8a38570c"
      },
      "execution_count": null,
      "outputs": [
        {
          "output_type": "stream",
          "name": "stdout",
          "text": [
            "[12, 10, 15, 13, 4]\n"
          ]
        }
      ]
    },
    {
      "cell_type": "code",
      "source": [
        "#For the given two lists find the result list that contains all sum of even elements first list with odd elements of the second list\n",
        "#List1=[6,5,2,7,9,3]\n",
        "#List2=[2,4,9,6,7,4]\n",
        "#res=[15,13,11,9]\n",
        "List1 = [6, 5, 2, 7, 9, 3]\n",
        "List2 = [2, 4, 9, 6, 7, 4]\n",
        "res = []\n",
        "i=0\n",
        "while i<len(List1):\n",
        "    if List1[i]%2!=0:\n",
        "        i+=1\n",
        "        continue\n",
        "    j=0\n",
        "    while j<len(List2):\n",
        "        if List2[j]%2!=0:\n",
        "            res.append(List1[i]+List2[j])\n",
        "            j+=1\n",
        "            continue\n",
        "        j+=1\n",
        "    i+=1\n",
        "print(res)"
      ],
      "metadata": {
        "colab": {
          "base_uri": "https://localhost:8080/"
        },
        "id": "Niwc_HUzJLfL",
        "outputId": "51b6d876-ef66-4fb8-def8-ec13e8dea08e"
      },
      "execution_count": null,
      "outputs": [
        {
          "output_type": "stream",
          "name": "stdout",
          "text": [
            "[15, 13, 11, 9]\n"
          ]
        }
      ]
    },
    {
      "cell_type": "code",
      "source": [
        "#Dynamic Programming\n",
        "#Memorization   Top-down approach based on recursion\n",
        "#Tabulation     Bottom-Up approach based on loops"
      ],
      "metadata": {
        "id": "juWlAwtKhox-"
      },
      "execution_count": null,
      "outputs": []
    },
    {
      "cell_type": "code",
      "source": [
        "def fibonacci(n, cache=None):\n",
        "    if cache is None:\n",
        "        cache = {}\n",
        "\n",
        "    if n in cache:\n",
        "        return cache[n]\n",
        "\n",
        "    if n == 0:\n",
        "        result = 0\n",
        "    elif n == 1:\n",
        "        result = 1\n",
        "    else:\n",
        "        result = fibonacci(n-1, cache) + fibonacci(n-2, cache)\n",
        "        cache[n] = result\n",
        "\n",
        "    return result\n",
        "n = 5\n",
        "result = fibonacci(n)\n",
        "print(f\"Fibonacci({n}) = {result}\")\n"
      ],
      "metadata": {
        "colab": {
          "base_uri": "https://localhost:8080/"
        },
        "id": "G7bWxSQE5X8h",
        "outputId": "18074cb3-9d69-4f17-aa0d-6be6b42a6914"
      },
      "execution_count": null,
      "outputs": [
        {
          "output_type": "stream",
          "name": "stdout",
          "text": [
            "Fibonacci(5) = 5\n"
          ]
        }
      ]
    },
    {
      "cell_type": "code",
      "source": [
        "def fibonacci(n):\n",
        "        if n==0:\n",
        "              return 0\n",
        "        elif n==1:\n",
        "               return 1\n",
        "        else:\n",
        "              table=[0]*(n+1)\n",
        "              table[0]=0\n",
        "              table[1]=1\n",
        "              for i in range(2,n+1):\n",
        "                      table[i]=table[i-1]+table[i-2]\n",
        "              return table[n]\n",
        "fibonacci(4)"
      ],
      "metadata": {
        "colab": {
          "base_uri": "https://localhost:8080/"
        },
        "id": "3bjbbMwa6VzZ",
        "outputId": "a494ac8b-adf5-4292-966c-37824005cf3e"
      },
      "execution_count": null,
      "outputs": [
        {
          "output_type": "execute_result",
          "data": {
            "text/plain": [
              "3"
            ]
          },
          "metadata": {},
          "execution_count": 25
        }
      ]
    },
    {
      "cell_type": "code",
      "source": [
        "#leetcode 70\n",
        "class Solution:\n",
        "    def climbStairs(self, n: int) -> int:\n",
        "        if n == 0:\n",
        "            return 1\n",
        "        dp = [0] * (n + 1)\n",
        "        dp[0] = 1\n",
        "        dp[1] = 1\n",
        "        for i in range(2, n + 1):\n",
        "            dp[i] = dp[i - 1] + dp[i - 2]\n",
        "        return dp[n]"
      ],
      "metadata": {
        "id": "OsYQ1Mq8ACxm"
      },
      "execution_count": null,
      "outputs": []
    },
    {
      "cell_type": "code",
      "source": [
        "#leetcode 338\n",
        "Given an integer n, return an array ans of length n + 1 such that for each i (0 <= i <= n), ans[i] is the number of 1's in the binary representation of i.\n",
        "\n",
        "\n",
        "\n",
        "Example 1:\n",
        "\n",
        "Input: n = 2\n",
        "Output: [0,1,1]\n",
        "Explanation:\n",
        "0 --> 0\n",
        "1 --> 1\n",
        "2 --> 10\n",
        "Example 2:\n",
        "\n",
        "Input: n = 5\n",
        "Output: [0,1,1,2,1,2]\n",
        "Explanation:\n",
        "0 --> 0\n",
        "1 --> 1\n",
        "2 --> 10\n",
        "3 --> 11\n",
        "4 --> 100\n",
        "5 --> 101\n",
        "\n",
        "\n",
        "Constraints:\n",
        "\n",
        "0 <= n <= 105\n"
      ],
      "metadata": {
        "id": "QdsJ9XgJEdG2"
      },
      "execution_count": null,
      "outputs": []
    }
  ]
}