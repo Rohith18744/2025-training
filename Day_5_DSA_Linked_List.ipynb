{
  "nbformat": 4,
  "nbformat_minor": 0,
  "metadata": {
    "colab": {
      "provenance": [],
      "authorship_tag": "ABX9TyN0R4VsBwN8aUi7bW3vk6tI",
      "include_colab_link": true
    },
    "kernelspec": {
      "name": "python3",
      "display_name": "Python 3"
    },
    "language_info": {
      "name": "python"
    }
  },
  "cells": [
    {
      "cell_type": "markdown",
      "metadata": {
        "id": "view-in-github",
        "colab_type": "text"
      },
      "source": [
        "<a href=\"https://colab.research.google.com/github/Rohith18744/2025-training/blob/main/Day_5_DSA_Linked_List.ipynb\" target=\"_parent\"><img src=\"https://colab.research.google.com/assets/colab-badge.svg\" alt=\"Open In Colab\"/></a>"
      ]
    },
    {
      "cell_type": "code",
      "execution_count": null,
      "metadata": {
        "colab": {
          "base_uri": "https://localhost:8080/"
        },
        "id": "aqtL6E7Ltex3",
        "outputId": "f6368c93-d7be-4a40-f7c5-88875fd9634c"
      },
      "outputs": [
        {
          "output_type": "stream",
          "name": "stdout",
          "text": [
            "1 -> 2 -> 3 -> None\n"
          ]
        }
      ],
      "source": [
        "#Linked list\n",
        "#Insert at beginning\n",
        "class Node:\n",
        "    def __init__(self, data):\n",
        "        self.data = data\n",
        "        self.next = None\n",
        "\n",
        "class LinkedList:\n",
        "    def __init__(self):\n",
        "        self.head = None\n",
        "\n",
        "    def insert_at_beginning(self, data):\n",
        "        new_node = Node(data)\n",
        "        new_node.next = self.head\n",
        "        self.head = new_node\n",
        "\n",
        "    def print_list(self):\n",
        "        current = self.head\n",
        "        while current:\n",
        "            print(current.data, end=\" -> \")\n",
        "            current = current.next\n",
        "        print(\"None\")\n",
        "\n",
        "# Example usage\n",
        "ll = LinkedList()\n",
        "ll.insert_at_beginning(3)  # List: 3\n",
        "ll.insert_at_beginning(2)  # List: 2 -> 3\n",
        "ll.insert_at_beginning(1)  # List: 1 -> 2 -> 3\n",
        "ll.print_list()  # Output: 1 -> 2 -> 3 -> None\n"
      ]
    },
    {
      "cell_type": "code",
      "source": [
        "class Node:\n",
        "    def __init__(self, data):\n",
        "        self.data = data\n",
        "        self.next = None\n",
        "\n",
        "class LinkedList:\n",
        "    def __init__(self):\n",
        "        self.head = None\n",
        "\n",
        "    def insert_at_position(self, position, data):\n",
        "        new_node = Node(data)\n",
        "        if position == 0:\n",
        "            new_node.next = self.head\n",
        "            self.head = new_node\n",
        "            return\n",
        "\n",
        "        current = self.head\n",
        "        for _ in range(position - 1):\n",
        "            if current is None:\n",
        "                raise IndexError(\"Position out of bounds\")\n",
        "            current = current.next\n",
        "\n",
        "        new_node.next = current.next\n",
        "        current.next = new_node\n",
        "\n",
        "    def print_list(self):\n",
        "        current = self.head\n",
        "        while current:\n",
        "            print(current.data, end=\" -> \")\n",
        "            current = current.next\n",
        "        print(\"None\")\n",
        "\n",
        "# Example usage\n",
        "ll = LinkedList()\n",
        "ll.insert_at_position(0, 1)  # List: 1\n",
        "ll.insert_at_position(1, 3)  # List: 1 -> 3\n",
        "ll.insert_at_position(1, 2)  # List: 1 -> 2 -> 3\n",
        "ll.print_list()  # Output: 1 -> 2 -> 3 -> None\n"
      ],
      "metadata": {
        "colab": {
          "base_uri": "https://localhost:8080/"
        },
        "id": "lwVr-qTd7RtT",
        "outputId": "df77dabe-241e-4055-9b2b-c6854dd7c64f"
      },
      "execution_count": null,
      "outputs": [
        {
          "output_type": "stream",
          "name": "stdout",
          "text": [
            "1 -> 2 -> 3 -> None\n"
          ]
        }
      ]
    },
    {
      "cell_type": "code",
      "source": [
        "class Node:\n",
        "    def __init__(self, data=None):\n",
        "        self.data = data\n",
        "        self.next = None\n",
        "\n",
        "class LinkedList:\n",
        "    def __init__(self):\n",
        "        self.head = None\n",
        "\n",
        "    def print_list(self):\n",
        "        current_node = self.head\n",
        "        while current_node:\n",
        "            print(current_node.data, end=\" -> \")\n",
        "            current_node = current_node.next\n",
        "        print(\"None\")\n",
        "llist=LinkedList()\n",
        "first_node=Node(\"Ashish\")\n",
        "llist.head=first_node\n",
        "second_node=Node(\"Abhinay\")\n",
        "third_node=Node(\"suraj\")\n",
        "first_node.next=second_node\n",
        "second_node.next=third_node\n",
        "\n",
        "llist.print_list()\n",
        "\n",
        "\n",
        "\n",
        "\n"
      ],
      "metadata": {
        "colab": {
          "base_uri": "https://localhost:8080/"
        },
        "id": "0eDo63bL-YyC",
        "outputId": "ca27f1ce-9d63-4e54-bdef-afc8215f2aef"
      },
      "execution_count": null,
      "outputs": [
        {
          "output_type": "stream",
          "name": "stdout",
          "text": [
            "Ashish -> Abhinay -> suraj -> None\n"
          ]
        }
      ]
    },
    {
      "cell_type": "code",
      "source": [
        "class Node:\n",
        "    def __init__(self, data):\n",
        "        self.data = data\n",
        "        self.next = None\n",
        "\n",
        "    def __repr__(self):\n",
        "        return self.data\n",
        "\n",
        "class LinkedList:\n",
        "    def __init__(self, nodes=None):\n",
        "        self.head = None\n",
        "        if nodes is not None:\n",
        "            node = Node(nodes.pop(0))\n",
        "            self.head = node\n",
        "            for elem in nodes:\n",
        "                node.next = Node(elem)\n",
        "                node = node.next\n",
        "\n",
        "    def __repr__(self):\n",
        "        node = self.head\n",
        "        nodes = []\n",
        "        while node is not None:\n",
        "            nodes.append(node.data)\n",
        "            node = node.next\n",
        "        nodes.append(\"None\")\n",
        "        return \" -> \".join(nodes)\n",
        "\n",
        "    def add_last(self, node):\n",
        "        if self.head is None:\n",
        "            self.head = node\n",
        "            return\n",
        "        current_node = self.head\n",
        "        while current_node.next is not None:\n",
        "            current_node = current_node.next\n",
        "        current_node.next = node\n",
        "\n",
        "# Create the linked list\n",
        "llist = LinkedList([\"a\", \"b\", \"c\", \"d\"])\n",
        "print(llist)\n",
        "\n",
        "# Add new nodes to the linked list\n",
        "llist.add_last(Node(\"e\"))\n",
        "print(llist)\n",
        "llist.add_last(Node(\"f\"))\n",
        "print(llist)\n"
      ],
      "metadata": {
        "colab": {
          "base_uri": "https://localhost:8080/"
        },
        "id": "tjhYDsmXEkrC",
        "outputId": "29b90387-48fc-4d1a-b5aa-95d9e14a46ee"
      },
      "execution_count": null,
      "outputs": [
        {
          "output_type": "stream",
          "name": "stdout",
          "text": [
            "a -> b -> c -> d -> None\n",
            "a -> b -> c -> d -> e -> None\n",
            "a -> b -> c -> d -> e -> f -> None\n"
          ]
        }
      ]
    },
    {
      "cell_type": "code",
      "source": [
        "#CodeForces 466A\n",
        "def minimum_cost(n, m, a, b):\n",
        "    total_cost_single = n * a\n",
        "    k = n // m\n",
        "    r = n % m\n",
        "    total_cost_combined = k * b + r * a\n",
        "    total_cost_full_multi = (k + 1) * b\n",
        "    return min(total_cost_single, total_cost_combined, total_cost_full_multi)\n",
        "n, m, a, b = map(int, input().split())\n",
        "print(minimum_cost(n, m, a, b))\n"
      ],
      "metadata": {
        "colab": {
          "base_uri": "https://localhost:8080/"
        },
        "id": "d92V-BwsQTq5",
        "outputId": "e3dce593-0617-4bd4-cee2-13a2a13afea9"
      },
      "execution_count": null,
      "outputs": [
        {
          "output_type": "stream",
          "name": "stdout",
          "text": [
            "6 2 1 2\n",
            "6\n"
          ]
        }
      ]
    },
    {
      "cell_type": "code",
      "source": [
        "n,m,a,b=list(map(int,input().split()))\n",
        "if m*a<=b:\n",
        "  print(n*a)\n",
        "else:\n",
        "  print((n//m)*b+min((n%m)*a,b))"
      ],
      "metadata": {
        "colab": {
          "base_uri": "https://localhost:8080/"
        },
        "id": "y6vl5NJ3sspv",
        "outputId": "f896b313-9893-4a0f-b02e-02d805deb1b2"
      },
      "execution_count": null,
      "outputs": [
        {
          "output_type": "stream",
          "name": "stdout",
          "text": [
            "5 2 2 3\n",
            "8\n"
          ]
        }
      ]
    },
    {
      "cell_type": "code",
      "source": [
        "#Input: 56 1000        #Input:647 667\n",
        "#Output:1->0->5->6     #Output:1->3->1->4\n",
        "\n",
        "\n",
        "class ListNode:\n",
        "    def __init__(self, value=0, next=None):\n",
        "        self.value = value\n",
        "        self.next = next\n",
        "\n",
        "def add_and_format_linked_list(num1, num2):\n",
        "    total = str(num1 + num2)\n",
        "    dummy = ListNode(0)\n",
        "    current = dummy\n",
        "    for digit in total:\n",
        "        current.next = ListNode(int(digit))\n",
        "        current = current.next\n",
        "    return dummy.next\n",
        "\n",
        "def print_linked_list(head):\n",
        "    current = head\n",
        "    while current:\n",
        "        print(current.value, end=\"->\" if current.next else \"\\n\")\n",
        "        current = current.next\n",
        "\n",
        "def main():\n",
        "    # Read input numbers\n",
        "    num1 = int(input(\"Enter the first number: \"))\n",
        "    num2 = int(input(\"Enter the second number: \"))\n",
        "\n",
        "    # Generate the formatted linked list\n",
        "    output_list = add_and_format_linked_list(num1, num2)\n",
        "\n",
        "    # Print the formatted linked list\n",
        "    print_linked_list(output_list)\n",
        "\n",
        "if __name__ == \"__main__\":\n",
        "    main()\n"
      ],
      "metadata": {
        "id": "LrjxezEewP74",
        "colab": {
          "base_uri": "https://localhost:8080/"
        },
        "outputId": "22c7b242-45f5-48be-9305-c8baec2e76a5"
      },
      "execution_count": null,
      "outputs": [
        {
          "output_type": "stream",
          "name": "stdout",
          "text": [
            "Enter the first number: 890\n",
            "Enter the second number: 7\n",
            "8->9->7\n"
          ]
        }
      ]
    }
  ]
}