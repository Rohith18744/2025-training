{
  "nbformat": 4,
  "nbformat_minor": 0,
  "metadata": {
    "colab": {
      "provenance": [],
      "authorship_tag": "ABX9TyPAxvIA+SMUyDe0NNfMhk5g",
      "include_colab_link": true
    },
    "kernelspec": {
      "name": "python3",
      "display_name": "Python 3"
    },
    "language_info": {
      "name": "python"
    }
  },
  "cells": [
    {
      "cell_type": "markdown",
      "metadata": {
        "id": "view-in-github",
        "colab_type": "text"
      },
      "source": [
        "<a href=\"https://colab.research.google.com/github/Rohith18744/2025-training/blob/main/Day_13.ipynb\" target=\"_parent\"><img src=\"https://colab.research.google.com/assets/colab-badge.svg\" alt=\"Open In Colab\"/></a>"
      ]
    },
    {
      "cell_type": "code",
      "execution_count": null,
      "metadata": {
        "colab": {
          "base_uri": "https://localhost:8080/"
        },
        "id": "e0SPbRKJP4he",
        "outputId": "0e0edf0b-6450-4eef-e38e-17c1b19134fd"
      },
      "outputs": [
        {
          "output_type": "stream",
          "name": "stdout",
          "text": [
            "[2, 4]\n"
          ]
        }
      ],
      "source": [
        "numList=[1,2,3,4,5]\n",
        "for i in numList:\n",
        "  numList.remove(i)\n",
        "print(numList)"
      ]
    },
    {
      "cell_type": "code",
      "source": [
        "for i in range(6):\n",
        "  print(i)\n",
        "  i+=2"
      ],
      "metadata": {
        "colab": {
          "base_uri": "https://localhost:8080/"
        },
        "id": "KilQ8BlaTK_T",
        "outputId": "462231f9-b9d4-410e-92c6-f3c072895d7d"
      },
      "execution_count": null,
      "outputs": [
        {
          "output_type": "stream",
          "name": "stdout",
          "text": [
            "0\n",
            "1\n",
            "2\n",
            "3\n",
            "4\n",
            "5\n"
          ]
        }
      ]
    },
    {
      "cell_type": "code",
      "source": [
        "#Sum of elements using recursion\n",
        "numList=list(map(int,input().split()))\n",
        "def totalSum(i):\n",
        "    if i>=len(numList):\n",
        "        return 0\n",
        "    return numList[i]+totalSum(i+1)\n",
        "print(totalSum(0))\n"
      ],
      "metadata": {
        "colab": {
          "base_uri": "https://localhost:8080/"
        },
        "id": "hrM-W3elaUHq",
        "outputId": "3d31d940-c868-459d-f959-2d700a6dda24"
      },
      "execution_count": null,
      "outputs": [
        {
          "output_type": "stream",
          "name": "stdout",
          "text": [
            "15 3 6 12 8 5\n",
            "49\n"
          ]
        }
      ]
    },
    {
      "cell_type": "code",
      "source": [
        "#palindrome or not using recursion\n",
        "#Input:1221 Out:True\n",
        "def is_palindrome(s):\n",
        "    if len(s) <= 1:\n",
        "        return True\n",
        "    if s[0] != s[-1]:\n",
        "        return False\n",
        "    return is_palindrome(s[1:-1])\n",
        "n=(input())\n",
        "print(is_palindrome(n))"
      ],
      "metadata": {
        "colab": {
          "base_uri": "https://localhost:8080/"
        },
        "id": "7NmJkbtSe30R",
        "outputId": "aa1bc846-9613-434d-efb8-f280a673e490"
      },
      "execution_count": null,
      "outputs": [
        {
          "output_type": "stream",
          "name": "stdout",
          "text": [
            "racecar\n",
            "True\n"
          ]
        }
      ]
    },
    {
      "cell_type": "code",
      "source": [
        "#Display longest palindrome\n",
        "#Input:120021    out:120021\n",
        "def is_palindrome(s):\n",
        "    if len(s) <= 1:\n",
        "        return True\n",
        "    if s[0] != s[-1]:\n",
        "        return False\n",
        "    return is_palindrome(s[1:-1])\n",
        "\n",
        "data=input()\n",
        "def largestpal():\n",
        "    maxLen=0\n",
        "    larpal=''\n",
        "    for i in range(len(data)):\n",
        "        for j in range(i+1,len(data)+1):\n",
        "            substr=data[i:j]\n",
        "            if is_palindrome(substr):\n",
        "                if len(substr)>maxLen:\n",
        "                    maxLen=len(substr)\n",
        "                    larpal=substr\n",
        "    return larpal\n",
        "print(largestpal())"
      ],
      "metadata": {
        "colab": {
          "base_uri": "https://localhost:8080/"
        },
        "id": "LphNQOmRyoya",
        "outputId": "2197af8b-03fe-4fe0-ab47-c11169bc5c2c"
      },
      "execution_count": null,
      "outputs": [
        {
          "output_type": "stream",
          "name": "stdout",
          "text": [
            "12011221\n",
            "1221\n"
          ]
        }
      ]
    },
    {
      "cell_type": "code",
      "source": [
        "#leetcode 1512\n",
        "n = list(map(int, input().split()))\n",
        "\n",
        "c = 0\n",
        "\n",
        "\n",
        "for i in range(len(n)):\n",
        "    for j in range(i + 1, len(n)):\n",
        "        if n[i] == n[j]:\n",
        "            c += 1\n",
        "\n",
        "print(c)"
      ],
      "metadata": {
        "colab": {
          "base_uri": "https://localhost:8080/"
        },
        "id": "hW4yB-G6y0qX",
        "outputId": "3d9b13b4-e992-4c0d-c728-1d5927924b16"
      },
      "execution_count": null,
      "outputs": [
        {
          "output_type": "stream",
          "name": "stdout",
          "text": [
            "1 2 3 4\n",
            "0\n"
          ]
        }
      ]
    },
    {
      "cell_type": "code",
      "source": [
        "def is_prime(num):\n",
        "    if num <= 1:\n",
        "        return False\n",
        "    for i in range(2, int(num**0.5) + 1):\n",
        "        if num % i == 0:\n",
        "            return False\n",
        "    return True\n",
        "\n",
        "n = int(input())\n",
        "pList = [i for i in range(2, n+1) if is_prime(i)]\n",
        "flag = False\n",
        "\n",
        "for i in range(len(pList)):\n",
        "    for j in range(i, -1, -1):\n",
        "        if pList[i] + pList[j] == n:\n",
        "            flag = True\n",
        "            break\n",
        "    if flag:\n",
        "        break\n",
        "\n",
        "if flag:\n",
        "    print(\"Yes\")\n",
        "else:\n",
        "    print(\"No\")"
      ],
      "metadata": {
        "id": "EAsE97L52YDp",
        "colab": {
          "base_uri": "https://localhost:8080/"
        },
        "outputId": "df22bd4b-deb8-4904-9915-307c8b309495"
      },
      "execution_count": null,
      "outputs": [
        {
          "output_type": "stream",
          "name": "stdout",
          "text": [
            "26\n",
            "Yes\n"
          ]
        }
      ]
    },
    {
      "cell_type": "code",
      "source": [
        "#GCD Of a number\n",
        "import math\n",
        "from functools import reduce\n",
        "def find_gcd(numbers):\n",
        "    return reduce(math.gcd, numbers)\n",
        "numbers = list(map(int, input(\"Enter numbers separated by space: \").split()))\n",
        "result = find_gcd(numbers)\n",
        "\n",
        "print(f\"The GCD of the given numbers is: {result}\")\n"
      ],
      "metadata": {
        "id": "8c8zBaqOXyJ-",
        "colab": {
          "base_uri": "https://localhost:8080/"
        },
        "outputId": "ca8f48c7-2b06-466b-8586-215296547674"
      },
      "execution_count": null,
      "outputs": [
        {
          "output_type": "stream",
          "name": "stdout",
          "text": [
            "Enter numbers separated by space: 78 52 117\n",
            "The GCD of the given numbers is: 13\n"
          ]
        }
      ]
    },
    {
      "cell_type": "code",
      "source": [
        "#GCD between two numbers\n",
        "def gcd_recursive(a, b):\n",
        "    if b == 0:\n",
        "        return a\n",
        "    else:\n",
        "        return gcd_recursive(b, a % b)\n",
        "num1 = 56\n",
        "num2 = 98\n",
        "print(f\"The GCD of {num1} and {num2} is {gcd_recursive(num1, num2)}\")\n",
        "\n"
      ],
      "metadata": {
        "id": "w6fd2Nz7cuND",
        "colab": {
          "base_uri": "https://localhost:8080/"
        },
        "outputId": "3ee00b38-46ba-4ed2-8867-dbf5f36f47f0"
      },
      "execution_count": null,
      "outputs": [
        {
          "output_type": "stream",
          "name": "stdout",
          "text": [
            "The GCD of 56 and 98 is 14\n"
          ]
        }
      ]
    },
    {
      "cell_type": "code",
      "source": [
        "#Check whether two numbers are co-prime or not\n",
        "def gcd_recursive(a, b):\n",
        "    if b == 0:\n",
        "        return a\n",
        "    else:\n",
        "        return gcd_recursive(b, a % b)\n",
        "\n",
        "def are_coprime(num1, num2):\n",
        "    return gcd_recursive(num1, num2) == 1\n",
        "\n",
        "# Example usage\n",
        "num1 = 14\n",
        "num2 = 15\n",
        "if are_coprime(num1, num2):\n",
        "    print(f\"{num1} and {num2} are co-prime.\")\n",
        "else:\n",
        "    print(f\"{num1} and {num2} are not co-prime.\")\n"
      ],
      "metadata": {
        "id": "qTZ_9qgWc0JT",
        "colab": {
          "base_uri": "https://localhost:8080/"
        },
        "outputId": "fe2ebf8b-2b0d-4079-fa39-f3347925f364"
      },
      "execution_count": null,
      "outputs": [
        {
          "output_type": "stream",
          "name": "stdout",
          "text": [
            "14 and 15 are co-prime.\n"
          ]
        }
      ]
    },
    {
      "cell_type": "code",
      "source": [
        "#In the theory of numbers, square free numbers have a special place. A square free number is one that is not divisible by a perfect square (other than 1). Thus 72 is divisible by 36 (a perfect square), and is not a square free number, but 70 has factors 1, 2, 5, 7, 10, 14, 35 and 70. As none of these are perfect squares (other than 1), 70 is a square free number.\n",
        "#For some algorithms, it is important to find out the square free numbers that divide a number. Note that 1 is not considered a square free number.\n",
        "#In this problem, you are asked to write a program to find the number of square free numbers that divide a given number.\n",
        "import math\n",
        "def is_square_free(n):\n",
        "    if n <= 0:\n",
        "        return False\n",
        "    if n == 1:\n",
        "        return True\n",
        "    for i in range(2, int(math.sqrt(n)) + 1):\n",
        "        if n % (i * i) == 0:\n",
        "            return False\n",
        "    return True\n",
        "def count_square_free_divisors(num):\n",
        "    square_free_count = 0\n",
        "    for i in range(1, num + 1):\n",
        "        if num % i == 0 and i != 1 and is_square_free(i):\n",
        "            square_free_count += 1\n",
        "\n",
        "    return square_free_count\n",
        "num = int(input())\n",
        "print(f\"The number of square-free divisors of {num} is {count_square_free_divisors(num)}\")\n"
      ],
      "metadata": {
        "colab": {
          "base_uri": "https://localhost:8080/"
        },
        "id": "ND0y_JV2pBOz",
        "outputId": "d59a2a5e-af38-4e73-e1bf-243cafd3e515"
      },
      "execution_count": null,
      "outputs": [
        {
          "output_type": "stream",
          "name": "stdout",
          "text": [
            "64\n",
            "The number of square-free divisors of 64 is 1\n"
          ]
        }
      ]
    }
  ]
}