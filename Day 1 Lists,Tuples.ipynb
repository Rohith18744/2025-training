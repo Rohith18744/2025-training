{
 "cells": [
  {
   "cell_type": "code",
   "execution_count": 4,
   "id": "8ed9b8ae-6330-4ae1-be8f-beddc9c10a90",
   "metadata": {},
   "outputs": [
    {
     "name": "stdin",
     "output_type": "stream",
     "text": [
      " 1 2 3 4\n",
      " 7 8 9\n"
     ]
    },
    {
     "name": "stdout",
     "output_type": "stream",
     "text": [
      "[1, 2, 3, 4, 7, 8, 9]\n"
     ]
    }
   ],
   "source": [
    "#Lists\n",
    "\n",
    "#Merging two lists\n",
    "list1=list(map(int,input().split()))\n",
    "list2=list(map(int,input().split()))\n",
    "res=list1+list2\n",
    "res.sort()\n",
    "print(res)\n",
    "           "
   ]
  },
  {
   "cell_type": "code",
   "execution_count": 7,
   "id": "b6eaa0e4-68c4-4548-a4f9-3b9f22eb64cd",
   "metadata": {},
   "outputs": [
    {
     "name": "stdin",
     "output_type": "stream",
     "text": [
      " 13\n"
     ]
    },
    {
     "name": "stdout",
     "output_type": "stream",
     "text": [
      "[1, 10, 11, 12, 13, 2, 3, 4, 5, 6, 7, 8, 9]\n"
     ]
    }
   ],
   "source": [
    "#LexicographicalNumbers\n",
    "data=int(input())\n",
    "rList=[str(i) for i in range(1,data+1)]\n",
    "rList.sort()\n",
    "print(list(map(int,rList)))\n"
   ]
  },
  {
   "cell_type": "code",
   "execution_count": 15,
   "id": "a86284de-efeb-431a-9c57-6cf407262175",
   "metadata": {},
   "outputs": [
    {
     "name": "stdin",
     "output_type": "stream",
     "text": [
      " ndmjcdn nmdcckdnkn bdncbndc\n"
     ]
    },
    {
     "name": "stdout",
     "output_type": "stream",
     "text": [
      "['bdncbndc', 'nmdcckdnkn', 'ndmjcdn']\n"
     ]
    }
   ],
   "source": [
    "#read the lst and swap the first and last element\n",
    "a=input().split()\n",
    "a[0],a[-1]=a[-1],a[0]\n",
    "print(a)"
   ]
  },
  {
   "cell_type": "code",
   "execution_count": 24,
   "id": "c09faf2d-b492-4b2f-8ff8-045478f4f136",
   "metadata": {},
   "outputs": [
    {
     "name": "stdin",
     "output_type": "stream",
     "text": [
      " 6 7 8 9\n"
     ]
    },
    {
     "name": "stdout",
     "output_type": "stream",
     "text": [
      "16\n"
     ]
    }
   ],
   "source": [
    "#House Problem\n",
    "house=list(map(int,input().split()))\n",
    "emax=sum(house[0::2])\n",
    "omax=sum(house[1::2])\n",
    "tmax=0\n",
    "while(max(house)!=0):\n",
    "    tmax+=max(house)\n",
    "    i=house.index(max(house))\n",
    "    if i==0:\n",
    "        house[0],house[1]=0,0\n",
    "    elif i==len(house)-1:\n",
    "        house[-2],house[-1]=0,0\n",
    "    else:\n",
    "        house[i],house[i+1],house[i-1]=0,0,0\n",
    "print(max(emax,omax,tmax))\n"
   ]
  },
  {
   "cell_type": "code",
   "execution_count": 29,
   "id": "768f9c59-9d7d-4152-9b28-bee723acafd4",
   "metadata": {},
   "outputs": [
    {
     "name": "stdout",
     "output_type": "stream",
     "text": [
      "True\n"
     ]
    }
   ],
   "source": [
    "#Any and all\n",
    "l=[1,2,-3]\n",
    "print(all(l))"
   ]
  },
  {
   "cell_type": "code",
   "execution_count": 31,
   "id": "624aae53-06e3-4001-85c4-d1177dad4176",
   "metadata": {},
   "outputs": [
    {
     "name": "stdout",
     "output_type": "stream",
     "text": [
      "False\n"
     ]
    }
   ],
   "source": [
    "#Membership operator\n",
    "l=[9,8,6,12]\n",
    "l=14 in l\n",
    "print(l)"
   ]
  },
  {
   "cell_type": "code",
   "execution_count": 36,
   "id": "a31958ef-9d10-4a75-8bb1-86b822f26ca9",
   "metadata": {},
   "outputs": [
    {
     "name": "stdout",
     "output_type": "stream",
     "text": [
      "[1, 8, 27, 64, 125]\n"
     ]
    }
   ],
   "source": [
    "#finding cubes b/w 1 to 6 using comprehensive approach\n",
    "cubeList=[i*i*i for i in range(1,6)]\n",
    "print(cubeList)\n"
   ]
  },
  {
   "cell_type": "code",
   "execution_count": 37,
   "id": "7395d7a1-47ec-4f92-9c93-29b28c1f76bc",
   "metadata": {},
   "outputs": [
    {
     "name": "stdout",
     "output_type": "stream",
     "text": [
      "[8, 64]\n"
     ]
    }
   ],
   "source": [
    "#Finding Cubes\n",
    "cubes=[]\n",
    "for i in range(1,6):\n",
    "    c=i*i*i\n",
    "    if c%2==0:\n",
    "        cubes.append(c)\n",
    "print(cubes)"
   ]
  },
  {
   "cell_type": "code",
   "execution_count": 44,
   "id": "7407800e-6ab2-4194-9c80-1e3d5906cedd",
   "metadata": {},
   "outputs": [
    {
     "name": "stdout",
     "output_type": "stream",
     "text": [
      "['e', 'l', ' ', 'v', 'r', 'o', 'e']\n"
     ]
    }
   ],
   "source": [
    "data=\"Hello Everyone\"\n",
    "print(list(data[1::2]))\n",
    "\n"
   ]
  },
  {
   "cell_type": "code",
   "execution_count": 46,
   "id": "4ef26cf1-d328-45dc-8f95-6f273506af47",
   "metadata": {},
   "outputs": [
    {
     "name": "stdout",
     "output_type": "stream",
     "text": [
      "['e', 'l', ' ', 'v', 'r', 'o', 'e']\n",
      "['e', 'l', ' ', 'v', 'r', 'o', 'e']\n"
     ]
    }
   ],
   "source": [
    "#Different approach\n",
    "data=\"Hello Everyone\"\n",
    "resList=[]\n",
    "for i in range(len(data)):\n",
    "    if i%2!=0:\n",
    "        resList.append(data[i])\n",
    "Ores=[]\n",
    "for ch in data[1::2]:\n",
    "    Ores.append(ch)\n",
    "print(resList)\n",
    "print(Ores)"
   ]
  },
  {
   "cell_type": "code",
   "execution_count": 52,
   "id": "d303764c-087a-4b74-b742-1efebe370868",
   "metadata": {},
   "outputs": [
    {
     "name": "stdout",
     "output_type": "stream",
     "text": [
      "['H', 'e', 'l', 'l', 'o', ' ', 'E', 'v', 'e', 'r', 'y', 'o', 'n', 'e']\n",
      "['e', 'l', ' ', 'v', 'r', 'o', 'e']\n"
     ]
    }
   ],
   "source": [
    "data=\"Hello Everyone\"\n",
    "print([data[i] for i in range(len(data))])\n",
    "print([ch for ch in data[1::2]])"
   ]
  },
  {
   "cell_type": "code",
   "execution_count": 70,
   "id": "7b1cdc2b-0c11-45a2-be51-4812aa810b72",
   "metadata": {},
   "outputs": [
    {
     "name": "stdin",
     "output_type": "stream",
     "text": [
      " 1 4\n",
      " 1 2 7 8\n"
     ]
    },
    {
     "name": "stdout",
     "output_type": "stream",
     "text": [
      "8\n"
     ]
    }
   ],
   "source": [
    "n, k = map(int, input().split())  \n",
    "hlist = list(map(int, input().split())) \n",
    "print(max(hlist))\n"
   ]
  },
  {
   "cell_type": "code",
   "execution_count": 65,
   "id": "4db31434-3264-4453-9990-f1452dbad346",
   "metadata": {},
   "outputs": [
    {
     "name": "stdin",
     "output_type": "stream",
     "text": [
      " 1 1 1 0 0\n"
     ]
    },
    {
     "name": "stdout",
     "output_type": "stream",
     "text": [
      "3\n"
     ]
    }
   ],
   "source": [
    "#No of 1's\n",
    "bList=list(map(int, input().split()))\n",
    "count,maxVal=0,0\n",
    "for i in bList:\n",
    "    if i==1 :\n",
    "        count+=1\n",
    "        if count>maxVal:\n",
    "            maxVal=count\n",
    "        else:\n",
    "            count=0\n",
    "print(maxVal)"
   ]
  },
  {
   "cell_type": "code",
   "execution_count": 67,
   "id": "d2664031-c83e-47ef-881e-53ee5a9b9434",
   "metadata": {},
   "outputs": [
    {
     "name": "stdin",
     "output_type": "stream",
     "text": [
      " 3 1 1\n",
      " 6 5 4\n"
     ]
    },
    {
     "name": "stdout",
     "output_type": "stream",
     "text": [
      "23\n"
     ]
    }
   ],
   "source": [
    "A=list(map(int, input().split()))\n",
    "B=list(map(int, input().split()))\n",
    "A.sort()\n",
    "B.sort(reverse=True)\n",
    "res=0\n",
    "for i in range(len(A)):\n",
    "    res+=A[i]*B[i]\n",
    "print(res)\n",
    "    "
   ]
  },
  {
   "cell_type": "code",
   "execution_count": 82,
   "id": "7759e2cf-cb2d-41ea-a6ca-6e5375973b4d",
   "metadata": {},
   "outputs": [
    {
     "name": "stdin",
     "output_type": "stream",
     "text": [
      " 3\n",
      " 1 1 1\n",
      " 55 55 55\n",
      " 2 2 2\n"
     ]
    },
    {
     "name": "stdout",
     "output_type": "stream",
     "text": [
      "1\n"
     ]
    }
   ],
   "source": [
    "#Max sum of list in lists\n",
    "n = int(input())\n",
    "nestList = [list(map(int, input().split())) for _ in range(n)]  # Fix the syntax for list comprehension\n",
    "\n",
    "maxIn, tSum = 0, 0\n",
    "for index, data in enumerate(nestList):\n",
    "    if tSum < sum(data):\n",
    "        tSum = sum(data)\n",
    "        maxIn = index\n",
    "\n",
    "print(maxIn)\n"
   ]
  },
  {
   "cell_type": "code",
   "execution_count": 85,
   "id": "f209ec9b-84ed-4d2c-8856-61e1d4ff6ead",
   "metadata": {},
   "outputs": [
    {
     "name": "stdout",
     "output_type": "stream",
     "text": [
      "1\n",
      "2\n",
      "3\n",
      "4\n"
     ]
    }
   ],
   "source": [
    "#Tuples\n",
    "data=(1,2,3,4)\n",
    "a,b,c,d=data\n",
    "print(a)\n",
    "print(b)\n",
    "print(c)\n",
    "print(d)"
   ]
  },
  {
   "cell_type": "code",
   "execution_count": null,
   "id": "a14ed88a-c3ab-4607-9ff7-4a50c091e8d8",
   "metadata": {},
   "outputs": [],
   "source": [
    "#Removing empty tuples in a list\n",
    "\n"
   ]
  }
 ],
 "metadata": {
  "kernelspec": {
   "display_name": "Python 3 (ipykernel)",
   "language": "python",
   "name": "python3"
  },
  "language_info": {
   "codemirror_mode": {
    "name": "ipython",
    "version": 3
   },
   "file_extension": ".py",
   "mimetype": "text/x-python",
   "name": "python",
   "nbconvert_exporter": "python",
   "pygments_lexer": "ipython3",
   "version": "3.12.3"
  }
 },
 "nbformat": 4,
 "nbformat_minor": 5
}
