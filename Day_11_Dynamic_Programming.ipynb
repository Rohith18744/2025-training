{
  "nbformat": 4,
  "nbformat_minor": 0,
  "metadata": {
    "colab": {
      "provenance": [],
      "authorship_tag": "ABX9TyPplrt8cDgf6mfhv3CMY/EE",
      "include_colab_link": true
    },
    "kernelspec": {
      "name": "python3",
      "display_name": "Python 3"
    },
    "language_info": {
      "name": "python"
    }
  },
  "cells": [
    {
      "cell_type": "markdown",
      "metadata": {
        "id": "view-in-github",
        "colab_type": "text"
      },
      "source": [
        "<a href=\"https://colab.research.google.com/github/Rohith18744/2025-training/blob/main/Day_11_Dynamic_Programming.ipynb\" target=\"_parent\"><img src=\"https://colab.research.google.com/assets/colab-badge.svg\" alt=\"Open In Colab\"/></a>"
      ]
    },
    {
      "cell_type": "markdown",
      "source": [
        "Dynamic Programming"
      ],
      "metadata": {
        "id": "E6Ln_ErxzXzN"
      }
    },
    {
      "cell_type": "code",
      "execution_count": null,
      "metadata": {
        "colab": {
          "base_uri": "https://localhost:8080/"
        },
        "id": "y4rxcLX6wZ89",
        "outputId": "0b65da12-13f9-4e40-b9e3-4c91207ea8e6"
      },
      "outputs": [
        {
          "output_type": "stream",
          "name": "stdout",
          "text": [
            "9\n",
            "34\n"
          ]
        }
      ],
      "source": [
        "def fib(n):\n",
        "    if n<0:\n",
        "        print(\"Incorrect Input\")\n",
        "    if n==0:\n",
        "        return 0\n",
        "    elif n==1 or n==2:\n",
        "        return 1\n",
        "    return fib(n-1)+fib(n-2)\n",
        "print(fib(int(input())))"
      ]
    },
    {
      "cell_type": "code",
      "source": [
        "fibval=[0,1]\n",
        "def fib(n):\n",
        "    if n<0:\n",
        "        print(\"Incorrect number\")\n",
        "    elif n<len(fibval):\n",
        "        return fibval[n]\n",
        "    fibval.append(fib(n-1)+fib(n-2))\n",
        "    return fibval[n]\n",
        "print(fib(int(input())))"
      ],
      "metadata": {
        "colab": {
          "base_uri": "https://localhost:8080/"
        },
        "id": "bc6LRg4T-RB0",
        "outputId": "466dbca6-c842-49c6-d023-2fd8942627de"
      },
      "execution_count": null,
      "outputs": [
        {
          "output_type": "stream",
          "name": "stdout",
          "text": [
            "100\n",
            "354224848179261915075\n"
          ]
        }
      ]
    },
    {
      "cell_type": "code",
      "source": [
        "#Finding 3rd largest factor\n",
        "N,k=map(int,input().split())\n",
        "for deno in range(N,0,-1):\n",
        "    if N%deno==0:\n",
        "        k-=1\n",
        "    if k==0:\n",
        "        print(deno)\n",
        "        break\n",
        "if k!=0:\n",
        "    print(\"1\")"
      ],
      "metadata": {
        "colab": {
          "base_uri": "https://localhost:8080/"
        },
        "id": "K9OH9aUWF_f0",
        "outputId": "e93ad2a8-7034-45f8-d0b5-671c4cb46d46"
      },
      "execution_count": null,
      "outputs": [
        {
          "output_type": "stream",
          "name": "stdout",
          "text": [
            "30 9\n",
            "1\n"
          ]
        }
      ]
    },
    {
      "cell_type": "code",
      "source": [
        "#2\n",
        "def kFactor(N, k, deno):\n",
        "    if deno <= 0:\n",
        "        return k\n",
        "    if N % deno == 0:\n",
        "        k -= 1\n",
        "    if k == 0:\n",
        "        print(deno)\n",
        "        return 0\n",
        "    return kFactor(N, k, deno - 1)\n",
        "\n",
        "if __name__ == \"__main__\":\n",
        "    N, k = map(int, input().split())\n",
        "    res = kFactor(N, k, N)\n",
        "    if res != 0:\n",
        "        print(\"No such divisor exists\")\n"
      ],
      "metadata": {
        "colab": {
          "base_uri": "https://localhost:8080/"
        },
        "id": "su4Ha_niJn3b",
        "outputId": "4fbe0625-c5ab-4562-fab3-d2d749f1d0a7"
      },
      "execution_count": null,
      "outputs": [
        {
          "output_type": "stream",
          "name": "stdout",
          "text": [
            "12 3\n",
            "4\n"
          ]
        }
      ]
    },
    {
      "cell_type": "code",
      "source": [
        "#Make list of numbers in such a way that 1st element should be int and 2nd element should be float follow the same manner until end..\n",
        "numList = input().split()\n",
        "\n",
        "def check_num_list(numList):\n",
        "    for i in range(len(numList)):\n",
        "        if i % 2 == 0:\n",
        "            # Check if the element is an integer\n",
        "            if not numList[i].isdigit() or '.' in numList[i]:\n",
        "                return False\n",
        "        else:\n",
        "            # Check if the element is a float\n",
        "            try:\n",
        "                float_value = float(numList[i])\n",
        "                if '.' not in numList[i]:\n",
        "                    return False\n",
        "            except ValueError:\n",
        "                return False\n",
        "    return True\n",
        "\n",
        "if check_num_list(numList):\n",
        "    print(\"True\")\n",
        "else:\n",
        "    print(\"False\")\n",
        "\n"
      ],
      "metadata": {
        "colab": {
          "base_uri": "https://localhost:8080/"
        },
        "id": "4WXSSHynTzVV",
        "outputId": "56b65e6a-29cc-4753-d43f-783d2eedaf60"
      },
      "execution_count": null,
      "outputs": [
        {
          "output_type": "stream",
          "name": "stdout",
          "text": [
            "12 11\n",
            "False\n"
          ]
        }
      ]
    },
    {
      "cell_type": "code",
      "source": [
        "#62 Unique Paths\n"
      ],
      "metadata": {
        "id": "aYQhLRwaYwNU"
      },
      "execution_count": null,
      "outputs": []
    },
    {
      "cell_type": "code",
      "source": [
        "#Mani is given an n-by-n matrix of O's and 1's where all 1's in each row come before all O's,\n",
        "# his task is to find the most efficient way to return the row with the maximum number of O's.\n",
        "def find_row_with_max_zeros(matrix):\n",
        "    n = len(matrix)\n",
        "    if n == 0 or len(matrix[0]) == 0:\n",
        "        return -1  # Handle edge cases where the matrix is empty\n",
        "\n",
        "    max_zeros = -1\n",
        "    max_zeros_row = -1\n",
        "\n",
        "    # Function to find the first zero using binary search\n",
        "    def count_zeros(row):\n",
        "        low, high = 0, n - 1\n",
        "        first_zero_index = n  # Default to n if no 0 is found\n",
        "\n",
        "        while low <= high:\n",
        "            mid = (low + high) // 2\n",
        "            if row[mid] == 0:\n",
        "                first_zero_index = mid\n",
        "                high = mid - 1\n",
        "            else:\n",
        "                low = mid + 1\n",
        "\n",
        "        return n - first_zero_index\n",
        "\n",
        "    # Traverse each row and calculate the number of zeros\n",
        "    for i in range(n):\n",
        "        num_zeros = count_zeros(matrix[i])\n",
        "        if num_zeros > max_zeros:\n",
        "            max_zeros = num_zeros\n",
        "            max_zeros_row = i\n",
        "\n",
        "    return max_zeros_row\n",
        "\n",
        "# Example usage:\n",
        "matrix = [\n",
        "    [1, 1, 1, 0, 0],\n",
        "    [1, 1, 0, 0, 0],\n",
        "    [1, 0, 0, 0, 0],\n",
        "    [1, 1, 1, 1, 0],\n",
        "    [1, 1, 1, 1, 1]\n",
        "]\n",
        "\n",
        "print(find_row_with_max_zeros(matrix))  # Output: 2\n"
      ],
      "metadata": {
        "colab": {
          "base_uri": "https://localhost:8080/"
        },
        "id": "Ccp0pcrDu9nm",
        "outputId": "84c33763-e508-42a9-d798-9cab804bf555"
      },
      "execution_count": null,
      "outputs": [
        {
          "output_type": "stream",
          "name": "stdout",
          "text": [
            "2\n"
          ]
        }
      ]
    },
    {
      "cell_type": "code",
      "source": [
        "#leetcode 2390\n",
        "class Solution:\n",
        "    def removeStars(self, s: str) -> str:\n",
        "        stack=[]\n",
        "        for i in s:\n",
        "            if i=='*':\n",
        "                stack.pop()\n",
        "            else:\n",
        "                stack.append(i)\n",
        "        return ''.join(stack)\n"
      ],
      "metadata": {
        "id": "mxjvqHkp1iQp"
      },
      "execution_count": null,
      "outputs": []
    },
    {
      "cell_type": "code",
      "source": [
        "#leetcode 151\n",
        "def reverseWords():\n",
        "    s = input(\"Enter a string: \")\n",
        "    r = ' '.join(reversed(s.split()))\n",
        "    print(r)\n",
        "\n",
        "reverseWords()"
      ],
      "metadata": {
        "colab": {
          "base_uri": "https://localhost:8080/"
        },
        "id": "bm0aV0ag8Sqz",
        "outputId": "a7424d51-534b-4cb4-daf7-15c15efa0a50"
      },
      "execution_count": null,
      "outputs": [
        {
          "output_type": "stream",
          "name": "stdout",
          "text": [
            "Enter a string: dheeraj ate pizza\n",
            "pizza ate dheeraj\n"
          ]
        }
      ]
    },
    {
      "cell_type": "code",
      "source": [
        "#leetcode 1046\n",
        "import heapq\n",
        "\n",
        "def lastStoneWeight(stones):\n",
        "    max_heap = [-stone for stone in stones]\n",
        "    heapq.heapify(max_heap)\n",
        "    while len(max_heap) > 1:\n",
        "        first = -heapq.heappop(max_heap)\n",
        "        second = -heapq.heappop(max_heap)\n",
        "        if first != second:\n",
        "            heapq.heappush(max_heap, -(first - second))\n",
        "    return -max_heap[0] if max_heap else 0\n",
        "\n",
        "stones = [2, 7, 4, 1, 8, 1]\n",
        "print(lastStoneWeight(stones))\n",
        "stones = [1]\n",
        "print(lastStoneWeight(stones))\n",
        "\n"
      ],
      "metadata": {
        "colab": {
          "base_uri": "https://localhost:8080/"
        },
        "id": "wWKL-SBf8nYf",
        "outputId": "c15f89d7-7e71-4dee-f70b-c0a2033ac412"
      },
      "execution_count": null,
      "outputs": [
        {
          "output_type": "stream",
          "name": "stdout",
          "text": [
            "1\n",
            "1\n"
          ]
        }
      ]
    },
    {
      "cell_type": "code",
      "source": [
        "#leetcode solution 1046\n",
        "class Solution:\n",
        "    def lastStonesWeight(self,stones:List[int])->int:\n",
        "        while len(stones)>1:\n",
        "            stones.sort()\n",
        "            chk=abs(stones.pop()-stones.pop())\n",
        "            if chk!=0:\n",
        "                stones.append(chk)\n",
        "        return stones[0]"
      ],
      "metadata": {
        "id": "WvyLjVgAI1aO"
      },
      "execution_count": null,
      "outputs": []
    },
    {
      "cell_type": "code",
      "source": [
        "#leetcode 1832\n",
        "class Solution:\n",
        "    def checkIfPangram(self, sentence: str) -> bool:\n",
        "        return len(set(sentence))==26"
      ],
      "metadata": {
        "id": "TDL5UmtmJrrK"
      },
      "execution_count": null,
      "outputs": []
    },
    {
      "cell_type": "code",
      "source": [
        "#leetcode 171\n",
        "class Solution:\n",
        "    def titleToNumber(self, columnTitle: str) -> int:\n",
        "        result = 0\n",
        "        for char in columnTitle:\n",
        "            result = result * 26 + (ord(char) - ord('A') + 1)\n",
        "        return result\n",
        "\n",
        "# Example usage:\n",
        "solution = Solution()\n",
        "print(solution.titleToNumber(\"A\"))   # Output: 1\n",
        "print(solution.titleToNumber(\"AB\"))  # Output: 28\n",
        "print(solution.titleToNumber(\"ZY\"))  # Output: 701\n"
      ],
      "metadata": {
        "id": "0BBvI3dIPDke"
      },
      "execution_count": null,
      "outputs": []
    },
    {
      "cell_type": "code",
      "source": [
        "#leetcode 1207\n",
        "class Solution:\n",
        "    def uniqueOccurrences(self, arr: list[int]) -> bool:\n",
        "        from collections import Counter\n",
        "        count = Counter(arr)\n",
        "        occurrences = set(count.values())\n",
        "        return len(occurrences) == len(count)\n",
        "solution = Solution()\n",
        "print(solution.uniqueOccurrences([1, 2, 2, 1, 1, 3]))  # Output: True\n",
        "print(solution.uniqueOccurrences([1, 2]))              # Output: False\n",
        "print(solution.uniqueOccurrences([-3, 0, 1, -3, 1, 1, 1, -3, 10, 0]))  # Output: True\n"
      ],
      "metadata": {
        "colab": {
          "base_uri": "https://localhost:8080/"
        },
        "id": "fqJIi-t5W5NA",
        "outputId": "bfd41954-d29a-42ef-fbc4-c1ef73c41bb6"
      },
      "execution_count": null,
      "outputs": [
        {
          "output_type": "stream",
          "name": "stdout",
          "text": [
            "True\n",
            "False\n",
            "True\n"
          ]
        }
      ]
    }
  ]
}