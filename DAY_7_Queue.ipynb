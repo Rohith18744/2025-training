{
  "nbformat": 4,
  "nbformat_minor": 0,
  "metadata": {
    "colab": {
      "provenance": [],
      "authorship_tag": "ABX9TyNGbDPAI+KJqT2MgEEW8A2r",
      "include_colab_link": true
    },
    "kernelspec": {
      "name": "python3",
      "display_name": "Python 3"
    },
    "language_info": {
      "name": "python"
    }
  },
  "cells": [
    {
      "cell_type": "markdown",
      "metadata": {
        "id": "view-in-github",
        "colab_type": "text"
      },
      "source": [
        "<a href=\"https://colab.research.google.com/github/Rohith18744/2025-training/blob/main/DAY_7_Queue.ipynb\" target=\"_parent\"><img src=\"https://colab.research.google.com/assets/colab-badge.svg\" alt=\"Open In Colab\"/></a>"
      ]
    },
    {
      "cell_type": "code",
      "execution_count": null,
      "metadata": {
        "colab": {
          "base_uri": "https://localhost:8080/"
        },
        "id": "5XYu-QiuLWKR",
        "outputId": "775bec24-fd5e-4fc2-c617-c7dd0d374c29"
      },
      "outputs": [
        {
          "output_type": "stream",
          "name": "stdout",
          "text": [
            "4\n"
          ]
        }
      ],
      "source": [
        "#Queues\n",
        "#Question 1:Zayn purenaved an array A having N imeger values. Alter playing it tor a while, he was bored of it and decided to update value of is ciement,\n",
        "#in one second he can increuse value of each array element by 1. Me want each array element's value to become greater than ar equal to K.\n",
        "#Please help Zayn to find out the minium amount of time it will take, far him to do so.\n",
        "\n",
        "def min_time_to_reach_k(A, K):\n",
        "    deficits = [max(0, K - x) for x in A]\n",
        "    max_deficit = max(deficits)\n",
        "    return max_deficit\n",
        "A = [4,2 ,1]\n",
        "K = 5\n",
        "print(min_time_to_reach_k(A, K))\n"
      ]
    },
    {
      "cell_type": "code",
      "source": [
        "#Question 2:Sandhir was into aviation industry and she was trying to check with some take off rules. There are three planes A, B and C. Plane A will takeoff on ever pth day i.e. p, 2p, 3p and so on. Plane B will takeoff on every qth day and plane C will takeoff on every rth day. There is only one runway and the takeoff timing is same for each of the three planes on each day. Now her tas is to find out the maximum number of flights that will successfully takeoff in the period of N days.\n",
        "#Note: If there is collision between the flights no flight will take off on that day.\n",
        "#Input Format\n",
        "#The first line of the input contains a single integer T, the number of test case:\n",
        "#Then T lines follow each containing four space-separated integers N, p, q and ras denoted in the statement.\n",
        "#Output Format\n",
        "#For each test case print a single integer representing the maximum number of flights that will successfully takeoff in the period of N days.\n",
        "tCase=int(input())\n",
        "tSum=0\n",
        "for i in range(tCase):\n",
        "  days,p,q,r=list(map(int,input().split()))\n",
        "  for i in range(1,days+1):\n",
        "    a=i%p\n",
        "    b=i%q\n",
        "    c=i%r\n",
        "    if a==0 or b==0 or c==0:\n",
        "      if a==0 and b==0:\n",
        "        continue\n",
        "    elif a==0 and c==0:\n",
        "      continue\n",
        "    tSum+=1\n",
        "  print(tSum)"
      ],
      "metadata": {
        "colab": {
          "base_uri": "https://localhost:8080/"
        },
        "id": "jdkWMWf-b1Fc",
        "outputId": "5bcfeb09-7bf4-4389-e76e-f2f12c2115b1"
      },
      "execution_count": null,
      "outputs": [
        {
          "output_type": "stream",
          "name": "stdout",
          "text": [
            "1\n",
            "10 2 4 7\n",
            "8\n"
          ]
        }
      ]
    },
    {
      "cell_type": "code",
      "source": [
        "#leetcode 232 Implementing queue using stack with two stacks\n",
        "class MyQueue:\n",
        "    def __init__(self):\n",
        "        self.stack1 = []\n",
        "        self.stack2 = []\n",
        "\n",
        "    def push(self, x: int) -> None:\n",
        "        self.stack1.append(x)\n",
        "\n",
        "    def pop(self) -> int:\n",
        "        self._shift_stacks()\n",
        "        return self.stack2.pop()\n",
        "\n",
        "    def peek(self) -> int:\n",
        "        self._shift_stacks()\n",
        "        return self.stack2[-1]\n",
        "\n",
        "    def empty(self) -> bool:\n",
        "        return not self.stack1 and not self.stack2\n",
        "\n",
        "    def _shift_stacks(self) -> None:\n",
        "        if not self.stack2:\n",
        "            while self.stack1:\n",
        "                self.stack2.append(self.stack1.pop())\n",
        "\n",
        "myQueue = MyQueue()\n",
        "myQueue.push(1)\n",
        "myQueue.push(2)\n",
        "print(myQueue.peek())\n",
        "print(myQueue.pop())\n",
        "print(myQueue.empty())\n"
      ],
      "metadata": {
        "colab": {
          "base_uri": "https://localhost:8080/"
        },
        "id": "PKcTbggSzC4e",
        "outputId": "09d2602a-b728-4724-bb3e-7dc4e0d0a2c6"
      },
      "execution_count": null,
      "outputs": [
        {
          "output_type": "stream",
          "name": "stdout",
          "text": [
            "1\n",
            "1\n",
            "False\n"
          ]
        }
      ]
    },
    {
      "cell_type": "code",
      "source": [
        "#leetcode 933 no of recent calls\n",
        "from collections import deque\n",
        "class RecentCounter:\n",
        "    def __init__(self):\n",
        "      self.requests = deque()\n",
        "    def ping(self,t:int)->int:\n",
        "        while self.requests and self.requests[0] < t - 3000:\n",
        "            self.requests.popleft()\n",
        "        self.requests.append(t)\n",
        "        return len(self.requests)\n",
        "\n",
        "recentCounter = RecentCounter()\n",
        "print(recentCounter.ping(1))\n",
        "print(recentCounter.ping(100))\n",
        "print(recentCounter.ping(3003))\n",
        "print(recentCounter.ping(3001))\n",
        "print(recentCounter.ping(3002))\n",
        "print(recentCounter.ping(2003))"
      ],
      "metadata": {
        "colab": {
          "base_uri": "https://localhost:8080/"
        },
        "id": "8yeZHSgpI4LM",
        "outputId": "245ea9ac-f562-440b-aca1-d562ab8f0b73"
      },
      "execution_count": null,
      "outputs": [
        {
          "output_type": "stream",
          "name": "stdout",
          "text": [
            "1\n",
            "2\n",
            "2\n",
            "3\n",
            "4\n",
            "5\n"
          ]
        }
      ]
    },
    {
      "cell_type": "code",
      "source": [
        "#leetcode 1438 longest sub array\n",
        "from collections import deque\n",
        "\n",
        "def longest_subarray(nums, limit):\n",
        "    min_deque = deque()\n",
        "    max_deque = deque()\n",
        "    left = 0\n",
        "    max_length = 0\n",
        "\n",
        "    for right in range(len(nums)):\n",
        "        while min_deque and min_deque[-1] > nums[right]:\n",
        "            min_deque.pop()\n",
        "        while max_deque and max_deque[-1] < nums[right]:\n",
        "            max_deque.pop()\n",
        "        min_deque.append(nums[right])\n",
        "        max_deque.append(nums[right])\n",
        "        while max_deque[0] - min_deque[0] > limit:\n",
        "            if min_deque[0] == nums[left]:\n",
        "                min_deque.popleft()\n",
        "            if max_deque[0] == nums[left]:\n",
        "                max_deque.popleft()\n",
        "            left += 1\n",
        "        max_length = max(max_length, right - left + 1)\n",
        "\n",
        "    return max_length\n",
        "print(longest_subarray([8,2,4,7], 4))\n",
        "print(longest_subarray([10,1,2,4,7,2], 5))\n",
        "print(longest_subarray([4,2,2,2,4,4,2,2], 0))\n"
      ],
      "metadata": {
        "colab": {
          "base_uri": "https://localhost:8080/"
        },
        "id": "gTHN5PsgWBEv",
        "outputId": "0b53977d-3328-42f1-bb24-d8150fc0ae4b"
      },
      "execution_count": null,
      "outputs": [
        {
          "output_type": "stream",
          "name": "stdout",
          "text": [
            "2\n",
            "4\n",
            "3\n"
          ]
        }
      ]
    },
    {
      "cell_type": "code",
      "source": [],
      "metadata": {
        "id": "elHUxl9zuLq5"
      },
      "execution_count": null,
      "outputs": []
    }
  ]
}