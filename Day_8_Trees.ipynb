{
  "nbformat": 4,
  "nbformat_minor": 0,
  "metadata": {
    "colab": {
      "provenance": [],
      "authorship_tag": "ABX9TyM7tzEUWXNc4SeqLpRV4dYj",
      "include_colab_link": true
    },
    "kernelspec": {
      "name": "python3",
      "display_name": "Python 3"
    },
    "language_info": {
      "name": "python"
    }
  },
  "cells": [
    {
      "cell_type": "markdown",
      "metadata": {
        "id": "view-in-github",
        "colab_type": "text"
      },
      "source": [
        "<a href=\"https://colab.research.google.com/github/Rohith18744/2025-training/blob/main/Day_8_Trees.ipynb\" target=\"_parent\"><img src=\"https://colab.research.google.com/assets/colab-badge.svg\" alt=\"Open In Colab\"/></a>"
      ]
    },
    {
      "cell_type": "code",
      "execution_count": null,
      "metadata": {
        "id": "GMsQUtJcbiMi",
        "colab": {
          "base_uri": "https://localhost:8080/"
        },
        "outputId": "a3d4603c-f655-4907-ec2a-f8d6c37ba212"
      },
      "outputs": [
        {
          "name": "stdout",
          "output_type": "stream",
          "text": [
            "1\n",
            "jsjccbmcnm\n",
            "adgh\n"
          ]
        }
      ],
      "source": [
        "#lexicograhical order with no of testcases\n",
        "tCase=int(input())\n",
        "for i in range(tCase):\n",
        "  lexi=input()\n",
        "  s=input()\n",
        "  for i in range(len(lexi)):\n",
        "    c=lexi[i]\n",
        "    if c in s:\n",
        "      print(c,end='')\n"
      ]
    },
    {
      "cell_type": "code",
      "source": [
        "#2\n",
        "T = int(input(\"Enter :\"))\n",
        "for _ in range(T):\n",
        "    P = input()\n",
        "    S = input()\n",
        "    small_lex = \"\"\n",
        "    for char in P:\n",
        "        if char in S:\n",
        "            small_lex += char\n",
        "    print(small_lex)"
      ],
      "metadata": {
        "colab": {
          "base_uri": "https://localhost:8080/"
        },
        "id": "KG8VXyxp4hw8",
        "outputId": "03556c20-f832-4ee5-b2c5-b4c8e87268df"
      },
      "execution_count": null,
      "outputs": [
        {
          "output_type": "stream",
          "name": "stdout",
          "text": [
            "Enter :2\n",
            "polikujmnhytgbvfredcxswqaz\n",
            "abcd qwryupcsfoghjkldezxvbintma\n",
            "polikujmnhytgbvfredcxswqaz\n",
            "ativedoc\n",
            "abcd\n",
            "adc\n"
          ]
        }
      ]
    },
    {
      "cell_type": "code",
      "source": [
        "#leetcode 101 symmetric or not\n",
        "# Definition for a binary tree node.\n",
        " #class TreeNode:\n",
        " #    def __init__(self, val=0, left=None, right=None):\n",
        "#         self.val = val\n",
        "#         self.left = left\n",
        "#         self.right = right\n",
        "#from typing import Optional\n",
        "# Definition for a binary tree node.\n",
        "# class TreeNode:\n",
        "#     def __init__(self, val=0, left=None, right=None):\n",
        "#         self.val = val\n",
        "#         self.left = left\n",
        "#         self.right = right\n",
        "class Solution:\n",
        "    def isSymmetric(self, root: Optional[TreeNode]) -> bool:\n",
        "         def is_mirror(left, right):\n",
        "            if not left and not right:\n",
        "                return True\n",
        "            if not left or not right or left.val != right.val:\n",
        "                return False\n",
        "            return is_mirror(left.left, right.right) and is_mirror(left.right, right.left)\n",
        "         return is_mirror(root, root)"
      ],
      "metadata": {
        "colab": {
          "base_uri": "https://localhost:8080/",
          "height": 332
        },
        "id": "w1dcPek85fMK",
        "outputId": "993e392a-cb26-45ce-fc13-480a20325fba"
      },
      "execution_count": null,
      "outputs": [
        {
          "output_type": "error",
          "ename": "NameError",
          "evalue": "name 'TreeNode' is not defined",
          "traceback": [
            "\u001b[0;31m---------------------------------------------------------------------------\u001b[0m",
            "\u001b[0;31mNameError\u001b[0m                                 Traceback (most recent call last)",
            "\u001b[0;32m<ipython-input-7-9ec7d00e5747>\u001b[0m in \u001b[0;36m<cell line: 15>\u001b[0;34m()\u001b[0m\n\u001b[1;32m     13\u001b[0m \u001b[0;31m#         self.left = left\u001b[0m\u001b[0;34m\u001b[0m\u001b[0;34m\u001b[0m\u001b[0m\n\u001b[1;32m     14\u001b[0m \u001b[0;31m#         self.right = right\u001b[0m\u001b[0;34m\u001b[0m\u001b[0;34m\u001b[0m\u001b[0m\n\u001b[0;32m---> 15\u001b[0;31m \u001b[0;32mclass\u001b[0m \u001b[0mSolution\u001b[0m\u001b[0;34m:\u001b[0m\u001b[0;34m\u001b[0m\u001b[0;34m\u001b[0m\u001b[0m\n\u001b[0m\u001b[1;32m     16\u001b[0m     \u001b[0;32mdef\u001b[0m \u001b[0misSymmetric\u001b[0m\u001b[0;34m(\u001b[0m\u001b[0mself\u001b[0m\u001b[0;34m,\u001b[0m \u001b[0mroot\u001b[0m\u001b[0;34m:\u001b[0m \u001b[0mOptional\u001b[0m\u001b[0;34m[\u001b[0m\u001b[0mTreeNode\u001b[0m\u001b[0;34m]\u001b[0m\u001b[0;34m)\u001b[0m \u001b[0;34m->\u001b[0m \u001b[0mbool\u001b[0m\u001b[0;34m:\u001b[0m\u001b[0;34m\u001b[0m\u001b[0;34m\u001b[0m\u001b[0m\n\u001b[1;32m     17\u001b[0m          \u001b[0;32mdef\u001b[0m \u001b[0mis_mirror\u001b[0m\u001b[0;34m(\u001b[0m\u001b[0mleft\u001b[0m\u001b[0;34m,\u001b[0m \u001b[0mright\u001b[0m\u001b[0;34m)\u001b[0m\u001b[0;34m:\u001b[0m\u001b[0;34m\u001b[0m\u001b[0;34m\u001b[0m\u001b[0m\n",
            "\u001b[0;32m<ipython-input-7-9ec7d00e5747>\u001b[0m in \u001b[0;36mSolution\u001b[0;34m()\u001b[0m\n\u001b[1;32m     14\u001b[0m \u001b[0;31m#         self.right = right\u001b[0m\u001b[0;34m\u001b[0m\u001b[0;34m\u001b[0m\u001b[0m\n\u001b[1;32m     15\u001b[0m \u001b[0;32mclass\u001b[0m \u001b[0mSolution\u001b[0m\u001b[0;34m:\u001b[0m\u001b[0;34m\u001b[0m\u001b[0;34m\u001b[0m\u001b[0m\n\u001b[0;32m---> 16\u001b[0;31m     \u001b[0;32mdef\u001b[0m \u001b[0misSymmetric\u001b[0m\u001b[0;34m(\u001b[0m\u001b[0mself\u001b[0m\u001b[0;34m,\u001b[0m \u001b[0mroot\u001b[0m\u001b[0;34m:\u001b[0m \u001b[0mOptional\u001b[0m\u001b[0;34m[\u001b[0m\u001b[0mTreeNode\u001b[0m\u001b[0;34m]\u001b[0m\u001b[0;34m)\u001b[0m \u001b[0;34m->\u001b[0m \u001b[0mbool\u001b[0m\u001b[0;34m:\u001b[0m\u001b[0;34m\u001b[0m\u001b[0;34m\u001b[0m\u001b[0m\n\u001b[0m\u001b[1;32m     17\u001b[0m          \u001b[0;32mdef\u001b[0m \u001b[0mis_mirror\u001b[0m\u001b[0;34m(\u001b[0m\u001b[0mleft\u001b[0m\u001b[0;34m,\u001b[0m \u001b[0mright\u001b[0m\u001b[0;34m)\u001b[0m\u001b[0;34m:\u001b[0m\u001b[0;34m\u001b[0m\u001b[0;34m\u001b[0m\u001b[0m\n\u001b[1;32m     18\u001b[0m             \u001b[0;32mif\u001b[0m \u001b[0;32mnot\u001b[0m \u001b[0mleft\u001b[0m \u001b[0;32mand\u001b[0m \u001b[0;32mnot\u001b[0m \u001b[0mright\u001b[0m\u001b[0;34m:\u001b[0m\u001b[0;34m\u001b[0m\u001b[0;34m\u001b[0m\u001b[0m\n",
            "\u001b[0;31mNameError\u001b[0m: name 'TreeNode' is not defined"
          ]
        }
      ]
    },
    {
      "cell_type": "code",
      "source": [
        "#1.tree construction\n",
        "#2.tree traversals:level order,vertical order\n",
        "#3.tree views-left,right,top and bottom\n",
        "#4.check bst or not\n",
        "#5.symmetric\n",
        "#6.height of binary tree\n",
        "#7.print all nodes at level k\n"
      ],
      "metadata": {
        "id": "G2ChP_-8RMpr"
      },
      "execution_count": null,
      "outputs": []
    },
    {
      "cell_type": "code",
      "source": [
        "#BST\n",
        "#45,23,8,54,21,80,56,33,20,89,99\n",
        "class TreeNode:\n",
        "    def __init__(self, val=0, left=None, right=None):\n",
        "        self.val = val\n",
        "        self.left = left\n",
        "        self.right = right\n",
        "\n",
        "def insert(root, val):\n",
        "    if root is None:\n",
        "        return TreeNode(val)\n",
        "\n",
        "    if val < root.val:\n",
        "        root.left = insert(root.left, val)\n",
        "    else:\n",
        "        root.right = insert(root.right, val)\n",
        "\n",
        "    return root\n",
        "\n",
        "def construct_bst(values):\n",
        "    root = None\n",
        "    for val in values:\n",
        "        root = insert(root, val)\n",
        "    return root\n",
        "\n"
      ],
      "metadata": {
        "id": "XdTCDk-9TXUy"
      },
      "execution_count": null,
      "outputs": []
    },
    {
      "cell_type": "code",
      "source": [
        "#Search in BST\n",
        "class TreeNode:\n",
        "    def __init__(self, val=0, left=None, right=None):\n",
        "        self.val = val\n",
        "        self.left = left\n",
        "        self.right = right\n",
        "\n",
        "def search(root, val):\n",
        "    if root is None:\n",
        "        return None\n",
        "    if val == root.val:\n",
        "        print(True)\n",
        "        return\n",
        "    elif val < root.val:\n",
        "        search(root.left, val)\n",
        "    else:\n",
        "        search(root.right, val)\n",
        "root = TreeNode(5)\n",
        "root.left = TreeNode(3)\n",
        "root.right = TreeNode(7)\n",
        "root.left.left = TreeNode(1)\n",
        "root.left.right = TreeNode(4)\n",
        "root.right.right = TreeNode(8)\n",
        "search(root, 5)\n",
        "search(root, 3)\n",
        "search(root, 8)\n",
        "search(root, 6)"
      ],
      "metadata": {
        "colab": {
          "base_uri": "https://localhost:8080/"
        },
        "id": "PeWiwqdMW1BT",
        "outputId": "1f7bbb30-8df3-4049-f591-f34f3b9d9526"
      },
      "execution_count": null,
      "outputs": [
        {
          "output_type": "stream",
          "name": "stdout",
          "text": [
            "True\n",
            "True\n",
            "True\n",
            "False\n"
          ]
        }
      ]
    },
    {
      "cell_type": "code",
      "source": [
        "#codeforces 1843C\n",
        "def totalSum(self,root):\n",
        "  if root is None:\n",
        "    return 0\n",
        "  else:\n",
        "    leftSum=totalSum(root.left)\n",
        "    rightSum=totalSum(root.right)\n",
        "    return root.data+leftSum+rightSum\n",
        "def treeMax(self,root):\n",
        "  if root is None:\n",
        "    return 0\n",
        "  else:\n",
        "    leftMax=treeMax(root.left)\n",
        "    rightMax=treeMax(root.right)\n",
        "  return max(root.data,leftMax,rightMax)\n",
        "\n",
        "def treeHeight(self,root):\n",
        "  if root is None:\n",
        "    return 0\n",
        "  else:\n",
        "    leftHeight=treeHeight(root.left)\n",
        "    rightHeight=treeHeight(root.right)\n",
        "    return 1 + max(leftHeight,rightHeight)\n",
        "def existIntTree(self,root):\n",
        "  if root is None:\n",
        "    return False\n",
        "  else:\n",
        "    inLeft=existIntTree(root.left,value)\n",
        "    inRight=existIntTree(root.right,value)\n",
        "    return root.data==value or inLeft or inRight\n",
        "\n",
        "def reverseTree(self,root):\n",
        "  if root is None:\n",
        "    return\n",
        "  else:\n",
        "    reverseTree(root.left)\n",
        "    reverseTree(root.right)\n",
        "    root.left,root.right=root.right,root.left\n",
        "\n"
      ],
      "metadata": {
        "id": "lADm38sRaOss"
      },
      "execution_count": null,
      "outputs": []
    }
  ]
}