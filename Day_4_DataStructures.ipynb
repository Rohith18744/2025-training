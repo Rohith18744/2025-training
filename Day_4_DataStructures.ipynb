{
  "nbformat": 4,
  "nbformat_minor": 0,
  "metadata": {
    "colab": {
      "provenance": [],
      "authorship_tag": "ABX9TyMQWh7Vs1KNtGcpmVKcb1H6",
      "include_colab_link": true
    },
    "kernelspec": {
      "name": "python3",
      "display_name": "Python 3"
    },
    "language_info": {
      "name": "python"
    }
  },
  "cells": [
    {
      "cell_type": "markdown",
      "metadata": {
        "id": "view-in-github",
        "colab_type": "text"
      },
      "source": [
        "<a href=\"https://colab.research.google.com/github/Rohith18744/2025-training/blob/main/Day_4_DataStructures.ipynb\" target=\"_parent\"><img src=\"https://colab.research.google.com/assets/colab-badge.svg\" alt=\"Open In Colab\"/></a>"
      ]
    },
    {
      "cell_type": "code",
      "execution_count": null,
      "metadata": {
        "id": "XEvVne26mU8_"
      },
      "outputs": [],
      "source": [
        "#Primitive datastructures\n",
        "#these are basic structures e.g:int,float,boolean\n",
        "#non-primitive datastructures\n",
        "#These are derived from primitive data structure eg:array,linked list,stacks"
      ]
    },
    {
      "cell_type": "code",
      "source": [
        "#Time and Space complexity\n",
        "#space complexity\n",
        "function func(a,b,c):\n",
        "variable z=a+b+c\n",
        "return (z)\n",
        "4 integer variables each need 4 bytes space return z it is also a integer variable it occupies another 4 bytes space\n",
        "total=4(4)+4=20 bytes"
      ],
      "metadata": {
        "id": "F7wTjtP0t07O"
      },
      "execution_count": null,
      "outputs": []
    },
    {
      "cell_type": "code",
      "source": [
        "sum(A,n)\n",
        "result=0\n",
        "iterate i from 0 to n\n",
        "result=result+A[i]\n",
        "return result\n",
        "4*n\n",
        "result,n,i and return value\n",
        "4+3=12\n",
        "total=4n+12"
      ],
      "metadata": {
        "id": "AsWtltg2yiB6"
      },
      "execution_count": null,
      "outputs": []
    },
    {
      "cell_type": "code",
      "source": [
        "#Time complexity\n",
        "it is a representation amount of time required to execute is known as Time complexity\n",
        "iterate i from 1 to N\n",
        "iterate j from 1 to N\n",
        "print *\n",
        "print next line\n",
        "N*N two loops proportional to Square Of N"
      ],
      "metadata": {
        "id": "56p4zuK2zMcJ"
      },
      "execution_count": null,
      "outputs": []
    },
    {
      "cell_type": "code",
      "source": [
        "\n",
        "#Program to print sum of all odd numbers present in a larger number\n",
        "#3446877846445566\n",
        "#Output=27\n",
        "n=int(input())\n",
        "totSum=0\n",
        "while n !=0:\n",
        "  rem=n%10\n",
        "  if rem%2!=0:\n",
        "    totSum+=rem\n",
        "  n//=10\n",
        "print(totSum)"
      ],
      "metadata": {
        "colab": {
          "base_uri": "https://localhost:8080/"
        },
        "id": "kJm0I7f40sZO",
        "outputId": "568f2d31-a33b-4e6a-844e-c0ffe3d1b2fb"
      },
      "execution_count": null,
      "outputs": [
        {
          "output_type": "stream",
          "name": "stdout",
          "text": [
            "3446877846445566\n",
            "27\n"
          ]
        }
      ]
    },
    {
      "cell_type": "code",
      "source": [
        "#Program to Sort first half in ascending order and second half in descending order in an array\n",
        "#Input:1 21 5 2 50 16\n",
        "#Output:1 2 5 50 21 16\n",
        "def sort_half_and_half(arr):\n",
        "    n = len(arr)\n",
        "    mid = n // 2\n",
        "\n",
        "    # Sort the first half in ascending order\n",
        "    first_half = sorted(arr[:mid])\n",
        "\n",
        "    # Sort the second half in descending order\n",
        "    second_half = sorted(arr[mid:], reverse=True)\n",
        "\n",
        "    # Combine the two halves\n",
        "    return first_half + second_half\n",
        "\n",
        "# Example usage\n",
        "arr = [10, 7, 8, 9, 1, 5, 4, 3, 6, 2]\n",
        "sorted_arr = sort_half_and_half(arr)\n",
        "print(\"Original array:\", arr)\n",
        "print(\"Sorted array:\", sorted_arr)\n"
      ],
      "metadata": {
        "colab": {
          "base_uri": "https://localhost:8080/"
        },
        "id": "-vXFbUwt7WCi",
        "outputId": "7bd9648f-c9a2-4b36-e3bc-49011af39137"
      },
      "execution_count": null,
      "outputs": [
        {
          "output_type": "stream",
          "name": "stdout",
          "text": [
            "Original array: [10, 7, 8, 9, 1, 5, 4, 3, 6, 2]\n",
            "Sorted array: [1, 7, 8, 9, 10, 6, 5, 4, 3, 2]\n"
          ]
        }
      ]
    },
    {
      "cell_type": "code",
      "source": [
        "#2\n",
        "numList=list(map(int,input().split()))\n",
        "n=len(numList)\n",
        "res=sorted(numList)[:n//2]\n",
        "res+=sorted(numList,reverse=True)[:n//2+1]\n",
        "print(res)\n"
      ],
      "metadata": {
        "colab": {
          "base_uri": "https://localhost:8080/"
        },
        "id": "joTYD-X2-UU5",
        "outputId": "a633a75d-88d9-41cf-8f45-6c4ee468db3a"
      },
      "execution_count": null,
      "outputs": [
        {
          "output_type": "stream",
          "name": "stdout",
          "text": [
            "1 21 5 2 50 16\n",
            "[1, 2, 5, 50, 21, 16, 5]\n"
          ]
        }
      ]
    },
    {
      "cell_type": "code",
      "source": [
        "#codeForces 427A Police crime problem\n",
        "# Read the number of events\n",
        "n = int(input())\n",
        "\n",
        "# Read the list of events\n",
        "events = list(map(int, input().split()))\n",
        "\n",
        "# Initialize counters\n",
        "officers = 0\n",
        "untreated_crimes = 0\n",
        "\n",
        "# Process each event\n",
        "for event in events:\n",
        "    if event > 0:\n",
        "        # Recruit officers\n",
        "        officers += event\n",
        "    elif event == -1:\n",
        "        if officers > 0:\n",
        "            # A crime occurred, an officer handles it\n",
        "            officers -= 1\n",
        "        else:\n",
        "            # No officers available, crime goes untreated\n",
        "            untreated_crimes += 1\n",
        "\n",
        "# Output the number of untreated crimes\n",
        "print(untreated_crimes)\n"
      ],
      "metadata": {
        "colab": {
          "base_uri": "https://localhost:8080/"
        },
        "id": "cijppWPsE69i",
        "outputId": "9d93dc40-c70e-4972-c535-5ad2f01d7785"
      },
      "execution_count": null,
      "outputs": [
        {
          "output_type": "stream",
          "name": "stdout",
          "text": [
            "3\n",
            "-1 -1 1\n",
            "0\n"
          ]
        }
      ]
    },
    {
      "cell_type": "code",
      "source": [
        "#codeForces 427A Police crime problem\n",
        "num=int(input())\n",
        "events=list(map(int, input().split()))\n",
        "avaPolice=0\n",
        "unEvents=0\n",
        "for event in events:\n",
        "  if event>0:\n",
        "    avaPolice+=event\n",
        "  elif event==-1:\n",
        "    if avaPolice<=abs(event):\n",
        "      unEvents+=abs(event)-avaPolice\n",
        "      avaPolice=0\n",
        "    else:\n",
        "      avaPolice-=abs(event)\n",
        "print(unEvents)"
      ],
      "metadata": {
        "colab": {
          "base_uri": "https://localhost:8080/"
        },
        "id": "kpnZf-jvRd6D",
        "outputId": "ed4208ba-90e5-41ae-c0a9-50cb542b9bfe"
      },
      "execution_count": null,
      "outputs": [
        {
          "output_type": "stream",
          "name": "stdout",
          "text": [
            "3\n",
            "-1 -1 1\n",
            "2\n"
          ]
        }
      ]
    },
    {
      "cell_type": "code",
      "source": [
        "#codeForces 4A Watermelon\n",
        "def can_divide_watermelon(w):\n",
        "    if w % 2 == 0 and w > 2:\n",
        "        return \"YES\"\n",
        "    else:\n",
        "        return \"NO\"\n",
        "w = int(input())\n",
        "print(can_divide_watermelon(w))\n"
      ],
      "metadata": {
        "colab": {
          "base_uri": "https://localhost:8080/"
        },
        "id": "arkRgVmBhcg9",
        "outputId": "63e3bd36-1baf-490b-86b9-789964a90d07"
      },
      "execution_count": null,
      "outputs": [
        {
          "output_type": "stream",
          "name": "stdout",
          "text": [
            "8\n",
            "YES\n"
          ]
        }
      ]
    }
  ]
}